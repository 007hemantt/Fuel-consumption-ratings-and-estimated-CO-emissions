{
  "cells": [
    {
      "cell_type": "code",
      "execution_count": null,
      "metadata": {
        "id": "ugzNI9DVBIAz"
      },
      "outputs": [],
      "source": [
        "import pandas as pd\n",
        "import numpy as np\n",
        "import seaborn as sns\n",
        "from sklearn.model_selection import train_test_split,cross_val_score\n",
        "from sklearn.preprocessing import StandardScaler\n",
        "from sklearn.ensemble import RandomForestClassifier\n",
        "from sklearn.model_selection import GridSearchCV\n",
        "from sklearn.metrics import classification_report, roc_auc_score, roc_curve\n",
        "from sklearn.metrics import accuracy_score, precision_score, recall_score, f1_score\n",
        "import matplotlib.pyplot as plt\n",
        "from sklearn.impute import KNNImputer\n"
      ]
    },
    {
      "cell_type": "markdown",
      "metadata": {
        "id": "sHxhWyg7DycS"
      },
      "source": [
        "###To predict whether a client will subscribe to a term deposit based on the bank's marketing campaigns, we can use a machine learning algorithm such as logistic regression, decision tree, or random forest. Here are the steps to build a predictive model using ROC-AUC for evaluation:###"
      ]
    },
    {
      "cell_type": "markdown",
      "metadata": {
        "id": "CovCWWIrHyXB"
      },
      "source": [
        "#Load Data"
      ]
    },
    {
      "cell_type": "code",
      "source": [
        "url = 'https://drive.google.com/file/d/1_61gJ2ZgU9j2XoMGTwK8zUrQaUFc4V6F/view?usp=sharing'\n",
        "file_id = url.split('/')[-2]\n",
        "dwn_url = 'https://drive.google.com/uc?id=' + file_id\n",
        "Data = pd.read_csv(dwn_url)"
      ],
      "metadata": {
        "id": "JgkSGt9u0LRI"
      },
      "execution_count": null,
      "outputs": []
    },
    {
      "cell_type": "code",
      "execution_count": null,
      "metadata": {
        "id": "ft2ysCJVD3Li"
      },
      "outputs": [],
      "source": [
        "# Data=pd.read_csv('preprocessed_data_Assignment_2.csv')"
      ]
    },
    {
      "cell_type": "code",
      "execution_count": null,
      "metadata": {
        "colab": {
          "base_uri": "https://localhost:8080/",
          "height": 424
        },
        "id": "wBy3jWieVEFs",
        "outputId": "dad23a95-1b61-4d58-b9d0-8a8549028ddc"
      },
      "outputs": [
        {
          "output_type": "execute_result",
          "data": {
            "text/plain": [
              "       age  job  marital  education  default  housing  loan  contact  month  \\\n",
              "0       49    1        1          2        0        0     0        0      7   \n",
              "1       37    2        1          6        0        0     0        1      7   \n",
              "2       55    5        1          0        0        0     0        0      3   \n",
              "3       36    0        1          6        0        1     0        1      6   \n",
              "4       55    5        0          6        0        0     0        0      4   \n",
              "...    ...  ...      ...        ...      ...      ...   ...      ...    ...   \n",
              "32945   28    7        2          3        0        1     0        0      3   \n",
              "32946   52    9        1          5        0        1     0        0      7   \n",
              "32947   54    0        1          2        0        0     1        0      3   \n",
              "32948   29    0        1          6        0        0     0        1      6   \n",
              "32949   35    0        1          6        0        0     1        1      4   \n",
              "\n",
              "       day_of_week  duration  campaign  poutcome  y  \n",
              "0                4       227         4         1  0  \n",
              "1                4       202         2         0  0  \n",
              "2                1       550         1         1  1  \n",
              "3                1       120         2         1  0  \n",
              "4                3       368         2         1  0  \n",
              "...            ...       ...       ...       ... ..  \n",
              "32945            3       192         1         1  0  \n",
              "32946            0        64         1         0  0  \n",
              "32947            1       131         4         1  0  \n",
              "32948            0       165         1         1  0  \n",
              "32949            3       544         3         1  0  \n",
              "\n",
              "[32950 rows x 14 columns]"
            ],
            "text/html": [
              "\n",
              "  <div id=\"df-917c5a60-72fa-43a6-9787-0135aa1749e1\">\n",
              "    <div class=\"colab-df-container\">\n",
              "      <div>\n",
              "<style scoped>\n",
              "    .dataframe tbody tr th:only-of-type {\n",
              "        vertical-align: middle;\n",
              "    }\n",
              "\n",
              "    .dataframe tbody tr th {\n",
              "        vertical-align: top;\n",
              "    }\n",
              "\n",
              "    .dataframe thead th {\n",
              "        text-align: right;\n",
              "    }\n",
              "</style>\n",
              "<table border=\"1\" class=\"dataframe\">\n",
              "  <thead>\n",
              "    <tr style=\"text-align: right;\">\n",
              "      <th></th>\n",
              "      <th>age</th>\n",
              "      <th>job</th>\n",
              "      <th>marital</th>\n",
              "      <th>education</th>\n",
              "      <th>default</th>\n",
              "      <th>housing</th>\n",
              "      <th>loan</th>\n",
              "      <th>contact</th>\n",
              "      <th>month</th>\n",
              "      <th>day_of_week</th>\n",
              "      <th>duration</th>\n",
              "      <th>campaign</th>\n",
              "      <th>poutcome</th>\n",
              "      <th>y</th>\n",
              "    </tr>\n",
              "  </thead>\n",
              "  <tbody>\n",
              "    <tr>\n",
              "      <th>0</th>\n",
              "      <td>49</td>\n",
              "      <td>1</td>\n",
              "      <td>1</td>\n",
              "      <td>2</td>\n",
              "      <td>0</td>\n",
              "      <td>0</td>\n",
              "      <td>0</td>\n",
              "      <td>0</td>\n",
              "      <td>7</td>\n",
              "      <td>4</td>\n",
              "      <td>227</td>\n",
              "      <td>4</td>\n",
              "      <td>1</td>\n",
              "      <td>0</td>\n",
              "    </tr>\n",
              "    <tr>\n",
              "      <th>1</th>\n",
              "      <td>37</td>\n",
              "      <td>2</td>\n",
              "      <td>1</td>\n",
              "      <td>6</td>\n",
              "      <td>0</td>\n",
              "      <td>0</td>\n",
              "      <td>0</td>\n",
              "      <td>1</td>\n",
              "      <td>7</td>\n",
              "      <td>4</td>\n",
              "      <td>202</td>\n",
              "      <td>2</td>\n",
              "      <td>0</td>\n",
              "      <td>0</td>\n",
              "    </tr>\n",
              "    <tr>\n",
              "      <th>2</th>\n",
              "      <td>55</td>\n",
              "      <td>5</td>\n",
              "      <td>1</td>\n",
              "      <td>0</td>\n",
              "      <td>0</td>\n",
              "      <td>0</td>\n",
              "      <td>0</td>\n",
              "      <td>0</td>\n",
              "      <td>3</td>\n",
              "      <td>1</td>\n",
              "      <td>550</td>\n",
              "      <td>1</td>\n",
              "      <td>1</td>\n",
              "      <td>1</td>\n",
              "    </tr>\n",
              "    <tr>\n",
              "      <th>3</th>\n",
              "      <td>36</td>\n",
              "      <td>0</td>\n",
              "      <td>1</td>\n",
              "      <td>6</td>\n",
              "      <td>0</td>\n",
              "      <td>1</td>\n",
              "      <td>0</td>\n",
              "      <td>1</td>\n",
              "      <td>6</td>\n",
              "      <td>1</td>\n",
              "      <td>120</td>\n",
              "      <td>2</td>\n",
              "      <td>1</td>\n",
              "      <td>0</td>\n",
              "    </tr>\n",
              "    <tr>\n",
              "      <th>4</th>\n",
              "      <td>55</td>\n",
              "      <td>5</td>\n",
              "      <td>0</td>\n",
              "      <td>6</td>\n",
              "      <td>0</td>\n",
              "      <td>0</td>\n",
              "      <td>0</td>\n",
              "      <td>0</td>\n",
              "      <td>4</td>\n",
              "      <td>3</td>\n",
              "      <td>368</td>\n",
              "      <td>2</td>\n",
              "      <td>1</td>\n",
              "      <td>0</td>\n",
              "    </tr>\n",
              "    <tr>\n",
              "      <th>...</th>\n",
              "      <td>...</td>\n",
              "      <td>...</td>\n",
              "      <td>...</td>\n",
              "      <td>...</td>\n",
              "      <td>...</td>\n",
              "      <td>...</td>\n",
              "      <td>...</td>\n",
              "      <td>...</td>\n",
              "      <td>...</td>\n",
              "      <td>...</td>\n",
              "      <td>...</td>\n",
              "      <td>...</td>\n",
              "      <td>...</td>\n",
              "      <td>...</td>\n",
              "    </tr>\n",
              "    <tr>\n",
              "      <th>32945</th>\n",
              "      <td>28</td>\n",
              "      <td>7</td>\n",
              "      <td>2</td>\n",
              "      <td>3</td>\n",
              "      <td>0</td>\n",
              "      <td>1</td>\n",
              "      <td>0</td>\n",
              "      <td>0</td>\n",
              "      <td>3</td>\n",
              "      <td>3</td>\n",
              "      <td>192</td>\n",
              "      <td>1</td>\n",
              "      <td>1</td>\n",
              "      <td>0</td>\n",
              "    </tr>\n",
              "    <tr>\n",
              "      <th>32946</th>\n",
              "      <td>52</td>\n",
              "      <td>9</td>\n",
              "      <td>1</td>\n",
              "      <td>5</td>\n",
              "      <td>0</td>\n",
              "      <td>1</td>\n",
              "      <td>0</td>\n",
              "      <td>0</td>\n",
              "      <td>7</td>\n",
              "      <td>0</td>\n",
              "      <td>64</td>\n",
              "      <td>1</td>\n",
              "      <td>0</td>\n",
              "      <td>0</td>\n",
              "    </tr>\n",
              "    <tr>\n",
              "      <th>32947</th>\n",
              "      <td>54</td>\n",
              "      <td>0</td>\n",
              "      <td>1</td>\n",
              "      <td>2</td>\n",
              "      <td>0</td>\n",
              "      <td>0</td>\n",
              "      <td>1</td>\n",
              "      <td>0</td>\n",
              "      <td>3</td>\n",
              "      <td>1</td>\n",
              "      <td>131</td>\n",
              "      <td>4</td>\n",
              "      <td>1</td>\n",
              "      <td>0</td>\n",
              "    </tr>\n",
              "    <tr>\n",
              "      <th>32948</th>\n",
              "      <td>29</td>\n",
              "      <td>0</td>\n",
              "      <td>1</td>\n",
              "      <td>6</td>\n",
              "      <td>0</td>\n",
              "      <td>0</td>\n",
              "      <td>0</td>\n",
              "      <td>1</td>\n",
              "      <td>6</td>\n",
              "      <td>0</td>\n",
              "      <td>165</td>\n",
              "      <td>1</td>\n",
              "      <td>1</td>\n",
              "      <td>0</td>\n",
              "    </tr>\n",
              "    <tr>\n",
              "      <th>32949</th>\n",
              "      <td>35</td>\n",
              "      <td>0</td>\n",
              "      <td>1</td>\n",
              "      <td>6</td>\n",
              "      <td>0</td>\n",
              "      <td>0</td>\n",
              "      <td>1</td>\n",
              "      <td>1</td>\n",
              "      <td>4</td>\n",
              "      <td>3</td>\n",
              "      <td>544</td>\n",
              "      <td>3</td>\n",
              "      <td>1</td>\n",
              "      <td>0</td>\n",
              "    </tr>\n",
              "  </tbody>\n",
              "</table>\n",
              "<p>32950 rows × 14 columns</p>\n",
              "</div>\n",
              "      <button class=\"colab-df-convert\" onclick=\"convertToInteractive('df-917c5a60-72fa-43a6-9787-0135aa1749e1')\"\n",
              "              title=\"Convert this dataframe to an interactive table.\"\n",
              "              style=\"display:none;\">\n",
              "        \n",
              "  <svg xmlns=\"http://www.w3.org/2000/svg\" height=\"24px\"viewBox=\"0 0 24 24\"\n",
              "       width=\"24px\">\n",
              "    <path d=\"M0 0h24v24H0V0z\" fill=\"none\"/>\n",
              "    <path d=\"M18.56 5.44l.94 2.06.94-2.06 2.06-.94-2.06-.94-.94-2.06-.94 2.06-2.06.94zm-11 1L8.5 8.5l.94-2.06 2.06-.94-2.06-.94L8.5 2.5l-.94 2.06-2.06.94zm10 10l.94 2.06.94-2.06 2.06-.94-2.06-.94-.94-2.06-.94 2.06-2.06.94z\"/><path d=\"M17.41 7.96l-1.37-1.37c-.4-.4-.92-.59-1.43-.59-.52 0-1.04.2-1.43.59L10.3 9.45l-7.72 7.72c-.78.78-.78 2.05 0 2.83L4 21.41c.39.39.9.59 1.41.59.51 0 1.02-.2 1.41-.59l7.78-7.78 2.81-2.81c.8-.78.8-2.07 0-2.86zM5.41 20L4 18.59l7.72-7.72 1.47 1.35L5.41 20z\"/>\n",
              "  </svg>\n",
              "      </button>\n",
              "      \n",
              "  <style>\n",
              "    .colab-df-container {\n",
              "      display:flex;\n",
              "      flex-wrap:wrap;\n",
              "      gap: 12px;\n",
              "    }\n",
              "\n",
              "    .colab-df-convert {\n",
              "      background-color: #E8F0FE;\n",
              "      border: none;\n",
              "      border-radius: 50%;\n",
              "      cursor: pointer;\n",
              "      display: none;\n",
              "      fill: #1967D2;\n",
              "      height: 32px;\n",
              "      padding: 0 0 0 0;\n",
              "      width: 32px;\n",
              "    }\n",
              "\n",
              "    .colab-df-convert:hover {\n",
              "      background-color: #E2EBFA;\n",
              "      box-shadow: 0px 1px 2px rgba(60, 64, 67, 0.3), 0px 1px 3px 1px rgba(60, 64, 67, 0.15);\n",
              "      fill: #174EA6;\n",
              "    }\n",
              "\n",
              "    [theme=dark] .colab-df-convert {\n",
              "      background-color: #3B4455;\n",
              "      fill: #D2E3FC;\n",
              "    }\n",
              "\n",
              "    [theme=dark] .colab-df-convert:hover {\n",
              "      background-color: #434B5C;\n",
              "      box-shadow: 0px 1px 3px 1px rgba(0, 0, 0, 0.15);\n",
              "      filter: drop-shadow(0px 1px 2px rgba(0, 0, 0, 0.3));\n",
              "      fill: #FFFFFF;\n",
              "    }\n",
              "  </style>\n",
              "\n",
              "      <script>\n",
              "        const buttonEl =\n",
              "          document.querySelector('#df-917c5a60-72fa-43a6-9787-0135aa1749e1 button.colab-df-convert');\n",
              "        buttonEl.style.display =\n",
              "          google.colab.kernel.accessAllowed ? 'block' : 'none';\n",
              "\n",
              "        async function convertToInteractive(key) {\n",
              "          const element = document.querySelector('#df-917c5a60-72fa-43a6-9787-0135aa1749e1');\n",
              "          const dataTable =\n",
              "            await google.colab.kernel.invokeFunction('convertToInteractive',\n",
              "                                                     [key], {});\n",
              "          if (!dataTable) return;\n",
              "\n",
              "          const docLinkHtml = 'Like what you see? Visit the ' +\n",
              "            '<a target=\"_blank\" href=https://colab.research.google.com/notebooks/data_table.ipynb>data table notebook</a>'\n",
              "            + ' to learn more about interactive tables.';\n",
              "          element.innerHTML = '';\n",
              "          dataTable['output_type'] = 'display_data';\n",
              "          await google.colab.output.renderOutput(dataTable, element);\n",
              "          const docLink = document.createElement('div');\n",
              "          docLink.innerHTML = docLinkHtml;\n",
              "          element.appendChild(docLink);\n",
              "        }\n",
              "      </script>\n",
              "    </div>\n",
              "  </div>\n",
              "  "
            ]
          },
          "metadata": {},
          "execution_count": 4
        }
      ],
      "source": [
        "Data"
      ]
    },
    {
      "cell_type": "code",
      "execution_count": null,
      "metadata": {
        "colab": {
          "base_uri": "https://localhost:8080/",
          "height": 206
        },
        "id": "krPlWUy3VEw_",
        "outputId": "a8e8a984-be0f-4fbd-99c3-fceb64f1e45e"
      },
      "outputs": [
        {
          "output_type": "execute_result",
          "data": {
            "text/plain": [
              "   age  job  marital  education  default  housing  loan  contact  month  \\\n",
              "0   49    1        1          2        0        0     0        0      7   \n",
              "1   37    2        1          6        0        0     0        1      7   \n",
              "2   55    5        1          0        0        0     0        0      3   \n",
              "3   36    0        1          6        0        1     0        1      6   \n",
              "4   55    5        0          6        0        0     0        0      4   \n",
              "\n",
              "   day_of_week  duration  campaign  poutcome  y  \n",
              "0            4       227         4         1  0  \n",
              "1            4       202         2         0  0  \n",
              "2            1       550         1         1  1  \n",
              "3            1       120         2         1  0  \n",
              "4            3       368         2         1  0  "
            ],
            "text/html": [
              "\n",
              "  <div id=\"df-91bbf9f6-13d3-433e-8e84-951cac385836\">\n",
              "    <div class=\"colab-df-container\">\n",
              "      <div>\n",
              "<style scoped>\n",
              "    .dataframe tbody tr th:only-of-type {\n",
              "        vertical-align: middle;\n",
              "    }\n",
              "\n",
              "    .dataframe tbody tr th {\n",
              "        vertical-align: top;\n",
              "    }\n",
              "\n",
              "    .dataframe thead th {\n",
              "        text-align: right;\n",
              "    }\n",
              "</style>\n",
              "<table border=\"1\" class=\"dataframe\">\n",
              "  <thead>\n",
              "    <tr style=\"text-align: right;\">\n",
              "      <th></th>\n",
              "      <th>age</th>\n",
              "      <th>job</th>\n",
              "      <th>marital</th>\n",
              "      <th>education</th>\n",
              "      <th>default</th>\n",
              "      <th>housing</th>\n",
              "      <th>loan</th>\n",
              "      <th>contact</th>\n",
              "      <th>month</th>\n",
              "      <th>day_of_week</th>\n",
              "      <th>duration</th>\n",
              "      <th>campaign</th>\n",
              "      <th>poutcome</th>\n",
              "      <th>y</th>\n",
              "    </tr>\n",
              "  </thead>\n",
              "  <tbody>\n",
              "    <tr>\n",
              "      <th>0</th>\n",
              "      <td>49</td>\n",
              "      <td>1</td>\n",
              "      <td>1</td>\n",
              "      <td>2</td>\n",
              "      <td>0</td>\n",
              "      <td>0</td>\n",
              "      <td>0</td>\n",
              "      <td>0</td>\n",
              "      <td>7</td>\n",
              "      <td>4</td>\n",
              "      <td>227</td>\n",
              "      <td>4</td>\n",
              "      <td>1</td>\n",
              "      <td>0</td>\n",
              "    </tr>\n",
              "    <tr>\n",
              "      <th>1</th>\n",
              "      <td>37</td>\n",
              "      <td>2</td>\n",
              "      <td>1</td>\n",
              "      <td>6</td>\n",
              "      <td>0</td>\n",
              "      <td>0</td>\n",
              "      <td>0</td>\n",
              "      <td>1</td>\n",
              "      <td>7</td>\n",
              "      <td>4</td>\n",
              "      <td>202</td>\n",
              "      <td>2</td>\n",
              "      <td>0</td>\n",
              "      <td>0</td>\n",
              "    </tr>\n",
              "    <tr>\n",
              "      <th>2</th>\n",
              "      <td>55</td>\n",
              "      <td>5</td>\n",
              "      <td>1</td>\n",
              "      <td>0</td>\n",
              "      <td>0</td>\n",
              "      <td>0</td>\n",
              "      <td>0</td>\n",
              "      <td>0</td>\n",
              "      <td>3</td>\n",
              "      <td>1</td>\n",
              "      <td>550</td>\n",
              "      <td>1</td>\n",
              "      <td>1</td>\n",
              "      <td>1</td>\n",
              "    </tr>\n",
              "    <tr>\n",
              "      <th>3</th>\n",
              "      <td>36</td>\n",
              "      <td>0</td>\n",
              "      <td>1</td>\n",
              "      <td>6</td>\n",
              "      <td>0</td>\n",
              "      <td>1</td>\n",
              "      <td>0</td>\n",
              "      <td>1</td>\n",
              "      <td>6</td>\n",
              "      <td>1</td>\n",
              "      <td>120</td>\n",
              "      <td>2</td>\n",
              "      <td>1</td>\n",
              "      <td>0</td>\n",
              "    </tr>\n",
              "    <tr>\n",
              "      <th>4</th>\n",
              "      <td>55</td>\n",
              "      <td>5</td>\n",
              "      <td>0</td>\n",
              "      <td>6</td>\n",
              "      <td>0</td>\n",
              "      <td>0</td>\n",
              "      <td>0</td>\n",
              "      <td>0</td>\n",
              "      <td>4</td>\n",
              "      <td>3</td>\n",
              "      <td>368</td>\n",
              "      <td>2</td>\n",
              "      <td>1</td>\n",
              "      <td>0</td>\n",
              "    </tr>\n",
              "  </tbody>\n",
              "</table>\n",
              "</div>\n",
              "      <button class=\"colab-df-convert\" onclick=\"convertToInteractive('df-91bbf9f6-13d3-433e-8e84-951cac385836')\"\n",
              "              title=\"Convert this dataframe to an interactive table.\"\n",
              "              style=\"display:none;\">\n",
              "        \n",
              "  <svg xmlns=\"http://www.w3.org/2000/svg\" height=\"24px\"viewBox=\"0 0 24 24\"\n",
              "       width=\"24px\">\n",
              "    <path d=\"M0 0h24v24H0V0z\" fill=\"none\"/>\n",
              "    <path d=\"M18.56 5.44l.94 2.06.94-2.06 2.06-.94-2.06-.94-.94-2.06-.94 2.06-2.06.94zm-11 1L8.5 8.5l.94-2.06 2.06-.94-2.06-.94L8.5 2.5l-.94 2.06-2.06.94zm10 10l.94 2.06.94-2.06 2.06-.94-2.06-.94-.94-2.06-.94 2.06-2.06.94z\"/><path d=\"M17.41 7.96l-1.37-1.37c-.4-.4-.92-.59-1.43-.59-.52 0-1.04.2-1.43.59L10.3 9.45l-7.72 7.72c-.78.78-.78 2.05 0 2.83L4 21.41c.39.39.9.59 1.41.59.51 0 1.02-.2 1.41-.59l7.78-7.78 2.81-2.81c.8-.78.8-2.07 0-2.86zM5.41 20L4 18.59l7.72-7.72 1.47 1.35L5.41 20z\"/>\n",
              "  </svg>\n",
              "      </button>\n",
              "      \n",
              "  <style>\n",
              "    .colab-df-container {\n",
              "      display:flex;\n",
              "      flex-wrap:wrap;\n",
              "      gap: 12px;\n",
              "    }\n",
              "\n",
              "    .colab-df-convert {\n",
              "      background-color: #E8F0FE;\n",
              "      border: none;\n",
              "      border-radius: 50%;\n",
              "      cursor: pointer;\n",
              "      display: none;\n",
              "      fill: #1967D2;\n",
              "      height: 32px;\n",
              "      padding: 0 0 0 0;\n",
              "      width: 32px;\n",
              "    }\n",
              "\n",
              "    .colab-df-convert:hover {\n",
              "      background-color: #E2EBFA;\n",
              "      box-shadow: 0px 1px 2px rgba(60, 64, 67, 0.3), 0px 1px 3px 1px rgba(60, 64, 67, 0.15);\n",
              "      fill: #174EA6;\n",
              "    }\n",
              "\n",
              "    [theme=dark] .colab-df-convert {\n",
              "      background-color: #3B4455;\n",
              "      fill: #D2E3FC;\n",
              "    }\n",
              "\n",
              "    [theme=dark] .colab-df-convert:hover {\n",
              "      background-color: #434B5C;\n",
              "      box-shadow: 0px 1px 3px 1px rgba(0, 0, 0, 0.15);\n",
              "      filter: drop-shadow(0px 1px 2px rgba(0, 0, 0, 0.3));\n",
              "      fill: #FFFFFF;\n",
              "    }\n",
              "  </style>\n",
              "\n",
              "      <script>\n",
              "        const buttonEl =\n",
              "          document.querySelector('#df-91bbf9f6-13d3-433e-8e84-951cac385836 button.colab-df-convert');\n",
              "        buttonEl.style.display =\n",
              "          google.colab.kernel.accessAllowed ? 'block' : 'none';\n",
              "\n",
              "        async function convertToInteractive(key) {\n",
              "          const element = document.querySelector('#df-91bbf9f6-13d3-433e-8e84-951cac385836');\n",
              "          const dataTable =\n",
              "            await google.colab.kernel.invokeFunction('convertToInteractive',\n",
              "                                                     [key], {});\n",
              "          if (!dataTable) return;\n",
              "\n",
              "          const docLinkHtml = 'Like what you see? Visit the ' +\n",
              "            '<a target=\"_blank\" href=https://colab.research.google.com/notebooks/data_table.ipynb>data table notebook</a>'\n",
              "            + ' to learn more about interactive tables.';\n",
              "          element.innerHTML = '';\n",
              "          dataTable['output_type'] = 'display_data';\n",
              "          await google.colab.output.renderOutput(dataTable, element);\n",
              "          const docLink = document.createElement('div');\n",
              "          docLink.innerHTML = docLinkHtml;\n",
              "          element.appendChild(docLink);\n",
              "        }\n",
              "      </script>\n",
              "    </div>\n",
              "  </div>\n",
              "  "
            ]
          },
          "metadata": {},
          "execution_count": 5
        }
      ],
      "source": [
        "Data.head()"
      ]
    },
    {
      "cell_type": "code",
      "execution_count": null,
      "metadata": {
        "colab": {
          "base_uri": "https://localhost:8080/"
        },
        "id": "BBtNXl8AKsMl",
        "outputId": "ff80c37c-de4c-4150-c3ec-6dc6dd858918"
      },
      "outputs": [
        {
          "output_type": "execute_result",
          "data": {
            "text/plain": [
              "age            int64\n",
              "job            int64\n",
              "marital        int64\n",
              "education      int64\n",
              "default        int64\n",
              "housing        int64\n",
              "loan           int64\n",
              "contact        int64\n",
              "month          int64\n",
              "day_of_week    int64\n",
              "duration       int64\n",
              "campaign       int64\n",
              "poutcome       int64\n",
              "y              int64\n",
              "dtype: object"
            ]
          },
          "metadata": {},
          "execution_count": 6
        }
      ],
      "source": [
        "Data.dtypes"
      ]
    },
    {
      "cell_type": "markdown",
      "metadata": {
        "id": "WqB7BTcEU5ZS"
      },
      "source": [
        "**Find the number of records and columns**"
      ]
    },
    {
      "cell_type": "code",
      "execution_count": null,
      "metadata": {
        "colab": {
          "base_uri": "https://localhost:8080/"
        },
        "id": "U0I6EpDXUhVS",
        "outputId": "d08eafc4-8742-4bae-c6e8-2286d4c95593"
      },
      "outputs": [
        {
          "output_type": "execute_result",
          "data": {
            "text/plain": [
              "(32950, 14)"
            ]
          },
          "metadata": {},
          "execution_count": 7
        }
      ],
      "source": [
        "Data.shape"
      ]
    },
    {
      "cell_type": "markdown",
      "metadata": {
        "id": "C3sDuoQwVSl-"
      },
      "source": [
        "**Use the .info() method to find the number of Non Null entries and Data Type of each feature**"
      ]
    },
    {
      "cell_type": "code",
      "execution_count": null,
      "metadata": {
        "colab": {
          "base_uri": "https://localhost:8080/"
        },
        "id": "jDYvNJx7VXlv",
        "outputId": "21c7dafa-ff14-43f9-ed20-75df424a67af"
      },
      "outputs": [
        {
          "output_type": "stream",
          "name": "stdout",
          "text": [
            "<class 'pandas.core.frame.DataFrame'>\n",
            "RangeIndex: 32950 entries, 0 to 32949\n",
            "Data columns (total 14 columns):\n",
            " #   Column       Non-Null Count  Dtype\n",
            "---  ------       --------------  -----\n",
            " 0   age          32950 non-null  int64\n",
            " 1   job          32950 non-null  int64\n",
            " 2   marital      32950 non-null  int64\n",
            " 3   education    32950 non-null  int64\n",
            " 4   default      32950 non-null  int64\n",
            " 5   housing      32950 non-null  int64\n",
            " 6   loan         32950 non-null  int64\n",
            " 7   contact      32950 non-null  int64\n",
            " 8   month        32950 non-null  int64\n",
            " 9   day_of_week  32950 non-null  int64\n",
            " 10  duration     32950 non-null  int64\n",
            " 11  campaign     32950 non-null  int64\n",
            " 12  poutcome     32950 non-null  int64\n",
            " 13  y            32950 non-null  int64\n",
            "dtypes: int64(14)\n",
            "memory usage: 3.5 MB\n"
          ]
        }
      ],
      "source": [
        "Data.info()"
      ]
    },
    {
      "cell_type": "code",
      "execution_count": null,
      "metadata": {
        "colab": {
          "base_uri": "https://localhost:8080/"
        },
        "id": "SsbGx_H8Y3Fe",
        "outputId": "bb979610-953f-45c8-914a-b127a45e58a1"
      },
      "outputs": [
        {
          "output_type": "execute_result",
          "data": {
            "text/plain": [
              "55"
            ]
          },
          "metadata": {},
          "execution_count": 9
        }
      ],
      "source": [
        "Data.duplicated().sum()"
      ]
    },
    {
      "cell_type": "code",
      "execution_count": null,
      "metadata": {
        "colab": {
          "base_uri": "https://localhost:8080/"
        },
        "id": "gs3gj0sA0IEz",
        "outputId": "4ce647a5-7d7c-4406-fc68-c364ab997006"
      },
      "outputs": [
        {
          "output_type": "stream",
          "name": "stdout",
          "text": [
            "age            0\n",
            "job            0\n",
            "marital        0\n",
            "education      0\n",
            "default        0\n",
            "housing        0\n",
            "loan           0\n",
            "contact        0\n",
            "month          0\n",
            "day_of_week    0\n",
            "duration       0\n",
            "campaign       0\n",
            "poutcome       0\n",
            "y              0\n",
            "dtype: int64\n"
          ]
        }
      ],
      "source": [
        "# check for missing values\n",
        "print(Data.isnull().sum())"
      ]
    },
    {
      "cell_type": "code",
      "execution_count": null,
      "metadata": {
        "colab": {
          "base_uri": "https://localhost:8080/"
        },
        "id": "Pa9q1c_a0IEz",
        "outputId": "e37558e6-b9b6-4a8c-f0c1-5e37c75f70c7"
      },
      "outputs": [
        {
          "output_type": "stream",
          "name": "stdout",
          "text": [
            "age            int64\n",
            "job            int64\n",
            "marital        int64\n",
            "education      int64\n",
            "default        int64\n",
            "housing        int64\n",
            "loan           int64\n",
            "contact        int64\n",
            "month          int64\n",
            "day_of_week    int64\n",
            "duration       int64\n",
            "campaign       int64\n",
            "poutcome       int64\n",
            "y              int64\n",
            "dtype: object\n"
          ]
        }
      ],
      "source": [
        "# check the data types\n",
        "print(Data.dtypes)"
      ]
    },
    {
      "cell_type": "code",
      "execution_count": null,
      "metadata": {
        "colab": {
          "base_uri": "https://localhost:8080/",
          "height": 364
        },
        "id": "jGseWzlT0IEz",
        "outputId": "0795b8a2-a497-4e87-faf4-0666b1c6895f"
      },
      "outputs": [
        {
          "output_type": "execute_result",
          "data": {
            "text/plain": [
              "                age           job       marital     education       default  \\\n",
              "count  32950.000000  32950.000000  32950.000000  32950.000000  32950.000000   \n",
              "mean      39.605584      3.634901      1.169408      3.706434      0.000091   \n",
              "std        9.079007      3.548829      0.603146      2.081246      0.009542   \n",
              "min       26.000000      0.000000      0.000000      0.000000      0.000000   \n",
              "25%       32.000000      0.000000      1.000000      2.000000      0.000000   \n",
              "50%       38.000000      2.000000      1.000000      3.000000      0.000000   \n",
              "75%       47.000000      7.000000      2.000000      6.000000      0.000000   \n",
              "max       55.000000     10.000000      2.000000      6.000000      1.000000   \n",
              "\n",
              "            housing          loan       contact         month   day_of_week  \\\n",
              "count  32950.000000  32950.000000  32950.000000  32950.000000  32950.000000   \n",
              "mean       0.547800      0.152443      0.365463      4.233414      2.000546   \n",
              "std        0.497717      0.359455      0.481567      2.319693      1.400260   \n",
              "min        0.000000      0.000000      0.000000      0.000000      0.000000   \n",
              "25%        0.000000      0.000000      0.000000      3.000000      1.000000   \n",
              "50%        1.000000      0.000000      0.000000      4.000000      2.000000   \n",
              "75%        1.000000      0.000000      1.000000      6.000000      3.000000   \n",
              "max        1.000000      1.000000      1.000000      9.000000      4.000000   \n",
              "\n",
              "           duration      campaign      poutcome             y  \n",
              "count  32950.000000  32950.000000  32950.000000  32950.000000  \n",
              "mean     227.795357      2.189469      0.929469      0.112656  \n",
              "std      158.757258      1.362850      0.364187      0.316176  \n",
              "min       36.000000      1.000000      0.000000      0.000000  \n",
              "25%      103.000000      1.000000      1.000000      0.000000  \n",
              "50%      180.000000      2.000000      1.000000      0.000000  \n",
              "75%      319.000000      3.000000      1.000000      0.000000  \n",
              "max      550.000000      5.000000      2.000000      1.000000  "
            ],
            "text/html": [
              "\n",
              "  <div id=\"df-2438de17-d361-4b4e-8123-3419f804c915\">\n",
              "    <div class=\"colab-df-container\">\n",
              "      <div>\n",
              "<style scoped>\n",
              "    .dataframe tbody tr th:only-of-type {\n",
              "        vertical-align: middle;\n",
              "    }\n",
              "\n",
              "    .dataframe tbody tr th {\n",
              "        vertical-align: top;\n",
              "    }\n",
              "\n",
              "    .dataframe thead th {\n",
              "        text-align: right;\n",
              "    }\n",
              "</style>\n",
              "<table border=\"1\" class=\"dataframe\">\n",
              "  <thead>\n",
              "    <tr style=\"text-align: right;\">\n",
              "      <th></th>\n",
              "      <th>age</th>\n",
              "      <th>job</th>\n",
              "      <th>marital</th>\n",
              "      <th>education</th>\n",
              "      <th>default</th>\n",
              "      <th>housing</th>\n",
              "      <th>loan</th>\n",
              "      <th>contact</th>\n",
              "      <th>month</th>\n",
              "      <th>day_of_week</th>\n",
              "      <th>duration</th>\n",
              "      <th>campaign</th>\n",
              "      <th>poutcome</th>\n",
              "      <th>y</th>\n",
              "    </tr>\n",
              "  </thead>\n",
              "  <tbody>\n",
              "    <tr>\n",
              "      <th>count</th>\n",
              "      <td>32950.000000</td>\n",
              "      <td>32950.000000</td>\n",
              "      <td>32950.000000</td>\n",
              "      <td>32950.000000</td>\n",
              "      <td>32950.000000</td>\n",
              "      <td>32950.000000</td>\n",
              "      <td>32950.000000</td>\n",
              "      <td>32950.000000</td>\n",
              "      <td>32950.000000</td>\n",
              "      <td>32950.000000</td>\n",
              "      <td>32950.000000</td>\n",
              "      <td>32950.000000</td>\n",
              "      <td>32950.000000</td>\n",
              "      <td>32950.000000</td>\n",
              "    </tr>\n",
              "    <tr>\n",
              "      <th>mean</th>\n",
              "      <td>39.605584</td>\n",
              "      <td>3.634901</td>\n",
              "      <td>1.169408</td>\n",
              "      <td>3.706434</td>\n",
              "      <td>0.000091</td>\n",
              "      <td>0.547800</td>\n",
              "      <td>0.152443</td>\n",
              "      <td>0.365463</td>\n",
              "      <td>4.233414</td>\n",
              "      <td>2.000546</td>\n",
              "      <td>227.795357</td>\n",
              "      <td>2.189469</td>\n",
              "      <td>0.929469</td>\n",
              "      <td>0.112656</td>\n",
              "    </tr>\n",
              "    <tr>\n",
              "      <th>std</th>\n",
              "      <td>9.079007</td>\n",
              "      <td>3.548829</td>\n",
              "      <td>0.603146</td>\n",
              "      <td>2.081246</td>\n",
              "      <td>0.009542</td>\n",
              "      <td>0.497717</td>\n",
              "      <td>0.359455</td>\n",
              "      <td>0.481567</td>\n",
              "      <td>2.319693</td>\n",
              "      <td>1.400260</td>\n",
              "      <td>158.757258</td>\n",
              "      <td>1.362850</td>\n",
              "      <td>0.364187</td>\n",
              "      <td>0.316176</td>\n",
              "    </tr>\n",
              "    <tr>\n",
              "      <th>min</th>\n",
              "      <td>26.000000</td>\n",
              "      <td>0.000000</td>\n",
              "      <td>0.000000</td>\n",
              "      <td>0.000000</td>\n",
              "      <td>0.000000</td>\n",
              "      <td>0.000000</td>\n",
              "      <td>0.000000</td>\n",
              "      <td>0.000000</td>\n",
              "      <td>0.000000</td>\n",
              "      <td>0.000000</td>\n",
              "      <td>36.000000</td>\n",
              "      <td>1.000000</td>\n",
              "      <td>0.000000</td>\n",
              "      <td>0.000000</td>\n",
              "    </tr>\n",
              "    <tr>\n",
              "      <th>25%</th>\n",
              "      <td>32.000000</td>\n",
              "      <td>0.000000</td>\n",
              "      <td>1.000000</td>\n",
              "      <td>2.000000</td>\n",
              "      <td>0.000000</td>\n",
              "      <td>0.000000</td>\n",
              "      <td>0.000000</td>\n",
              "      <td>0.000000</td>\n",
              "      <td>3.000000</td>\n",
              "      <td>1.000000</td>\n",
              "      <td>103.000000</td>\n",
              "      <td>1.000000</td>\n",
              "      <td>1.000000</td>\n",
              "      <td>0.000000</td>\n",
              "    </tr>\n",
              "    <tr>\n",
              "      <th>50%</th>\n",
              "      <td>38.000000</td>\n",
              "      <td>2.000000</td>\n",
              "      <td>1.000000</td>\n",
              "      <td>3.000000</td>\n",
              "      <td>0.000000</td>\n",
              "      <td>1.000000</td>\n",
              "      <td>0.000000</td>\n",
              "      <td>0.000000</td>\n",
              "      <td>4.000000</td>\n",
              "      <td>2.000000</td>\n",
              "      <td>180.000000</td>\n",
              "      <td>2.000000</td>\n",
              "      <td>1.000000</td>\n",
              "      <td>0.000000</td>\n",
              "    </tr>\n",
              "    <tr>\n",
              "      <th>75%</th>\n",
              "      <td>47.000000</td>\n",
              "      <td>7.000000</td>\n",
              "      <td>2.000000</td>\n",
              "      <td>6.000000</td>\n",
              "      <td>0.000000</td>\n",
              "      <td>1.000000</td>\n",
              "      <td>0.000000</td>\n",
              "      <td>1.000000</td>\n",
              "      <td>6.000000</td>\n",
              "      <td>3.000000</td>\n",
              "      <td>319.000000</td>\n",
              "      <td>3.000000</td>\n",
              "      <td>1.000000</td>\n",
              "      <td>0.000000</td>\n",
              "    </tr>\n",
              "    <tr>\n",
              "      <th>max</th>\n",
              "      <td>55.000000</td>\n",
              "      <td>10.000000</td>\n",
              "      <td>2.000000</td>\n",
              "      <td>6.000000</td>\n",
              "      <td>1.000000</td>\n",
              "      <td>1.000000</td>\n",
              "      <td>1.000000</td>\n",
              "      <td>1.000000</td>\n",
              "      <td>9.000000</td>\n",
              "      <td>4.000000</td>\n",
              "      <td>550.000000</td>\n",
              "      <td>5.000000</td>\n",
              "      <td>2.000000</td>\n",
              "      <td>1.000000</td>\n",
              "    </tr>\n",
              "  </tbody>\n",
              "</table>\n",
              "</div>\n",
              "      <button class=\"colab-df-convert\" onclick=\"convertToInteractive('df-2438de17-d361-4b4e-8123-3419f804c915')\"\n",
              "              title=\"Convert this dataframe to an interactive table.\"\n",
              "              style=\"display:none;\">\n",
              "        \n",
              "  <svg xmlns=\"http://www.w3.org/2000/svg\" height=\"24px\"viewBox=\"0 0 24 24\"\n",
              "       width=\"24px\">\n",
              "    <path d=\"M0 0h24v24H0V0z\" fill=\"none\"/>\n",
              "    <path d=\"M18.56 5.44l.94 2.06.94-2.06 2.06-.94-2.06-.94-.94-2.06-.94 2.06-2.06.94zm-11 1L8.5 8.5l.94-2.06 2.06-.94-2.06-.94L8.5 2.5l-.94 2.06-2.06.94zm10 10l.94 2.06.94-2.06 2.06-.94-2.06-.94-.94-2.06-.94 2.06-2.06.94z\"/><path d=\"M17.41 7.96l-1.37-1.37c-.4-.4-.92-.59-1.43-.59-.52 0-1.04.2-1.43.59L10.3 9.45l-7.72 7.72c-.78.78-.78 2.05 0 2.83L4 21.41c.39.39.9.59 1.41.59.51 0 1.02-.2 1.41-.59l7.78-7.78 2.81-2.81c.8-.78.8-2.07 0-2.86zM5.41 20L4 18.59l7.72-7.72 1.47 1.35L5.41 20z\"/>\n",
              "  </svg>\n",
              "      </button>\n",
              "      \n",
              "  <style>\n",
              "    .colab-df-container {\n",
              "      display:flex;\n",
              "      flex-wrap:wrap;\n",
              "      gap: 12px;\n",
              "    }\n",
              "\n",
              "    .colab-df-convert {\n",
              "      background-color: #E8F0FE;\n",
              "      border: none;\n",
              "      border-radius: 50%;\n",
              "      cursor: pointer;\n",
              "      display: none;\n",
              "      fill: #1967D2;\n",
              "      height: 32px;\n",
              "      padding: 0 0 0 0;\n",
              "      width: 32px;\n",
              "    }\n",
              "\n",
              "    .colab-df-convert:hover {\n",
              "      background-color: #E2EBFA;\n",
              "      box-shadow: 0px 1px 2px rgba(60, 64, 67, 0.3), 0px 1px 3px 1px rgba(60, 64, 67, 0.15);\n",
              "      fill: #174EA6;\n",
              "    }\n",
              "\n",
              "    [theme=dark] .colab-df-convert {\n",
              "      background-color: #3B4455;\n",
              "      fill: #D2E3FC;\n",
              "    }\n",
              "\n",
              "    [theme=dark] .colab-df-convert:hover {\n",
              "      background-color: #434B5C;\n",
              "      box-shadow: 0px 1px 3px 1px rgba(0, 0, 0, 0.15);\n",
              "      filter: drop-shadow(0px 1px 2px rgba(0, 0, 0, 0.3));\n",
              "      fill: #FFFFFF;\n",
              "    }\n",
              "  </style>\n",
              "\n",
              "      <script>\n",
              "        const buttonEl =\n",
              "          document.querySelector('#df-2438de17-d361-4b4e-8123-3419f804c915 button.colab-df-convert');\n",
              "        buttonEl.style.display =\n",
              "          google.colab.kernel.accessAllowed ? 'block' : 'none';\n",
              "\n",
              "        async function convertToInteractive(key) {\n",
              "          const element = document.querySelector('#df-2438de17-d361-4b4e-8123-3419f804c915');\n",
              "          const dataTable =\n",
              "            await google.colab.kernel.invokeFunction('convertToInteractive',\n",
              "                                                     [key], {});\n",
              "          if (!dataTable) return;\n",
              "\n",
              "          const docLinkHtml = 'Like what you see? Visit the ' +\n",
              "            '<a target=\"_blank\" href=https://colab.research.google.com/notebooks/data_table.ipynb>data table notebook</a>'\n",
              "            + ' to learn more about interactive tables.';\n",
              "          element.innerHTML = '';\n",
              "          dataTable['output_type'] = 'display_data';\n",
              "          await google.colab.output.renderOutput(dataTable, element);\n",
              "          const docLink = document.createElement('div');\n",
              "          docLink.innerHTML = docLinkHtml;\n",
              "          element.appendChild(docLink);\n",
              "        }\n",
              "      </script>\n",
              "    </div>\n",
              "  </div>\n",
              "  "
            ]
          },
          "metadata": {},
          "execution_count": 12
        }
      ],
      "source": [
        "# describe the numerical variables\n",
        "Data.describe()"
      ]
    },
    {
      "cell_type": "code",
      "execution_count": null,
      "metadata": {
        "colab": {
          "base_uri": "https://localhost:8080/",
          "height": 552
        },
        "id": "8Xuxj2tw0IE0",
        "outputId": "57b2c2fa-9f18-4f22-b724-d822c205a6a7"
      },
      "outputs": [
        {
          "output_type": "execute_result",
          "data": {
            "text/plain": [
              "                  age       job   marital  education   default   housing  \\\n",
              "age          1.000000 -0.021699 -0.405322  -0.121362  0.002867 -0.003995   \n",
              "job         -0.021699  1.000000  0.028103   0.131251  0.015322  0.009210   \n",
              "marital     -0.405322  0.028103  1.000000   0.111112 -0.002680  0.017711   \n",
              "education   -0.121362  0.131251  0.111112   1.000000  0.002874  0.022380   \n",
              "default      0.002867  0.015322 -0.002680   0.002874  1.000000 -0.004112   \n",
              "housing     -0.003995  0.009210  0.017711   0.022380 -0.004112  1.000000   \n",
              "loan        -0.003012 -0.013945  0.007988   0.010166 -0.004047  0.037050   \n",
              "contact      0.024952 -0.031371 -0.054023  -0.109040 -0.007242 -0.078204   \n",
              "month       -0.033614 -0.027566 -0.005747  -0.085088 -0.005074 -0.016748   \n",
              "day_of_week -0.022997 -0.002116  0.002693  -0.016576  0.006811  0.003664   \n",
              "duration    -0.000494 -0.005580  0.006257  -0.022133 -0.007481 -0.011294   \n",
              "campaign     0.007063 -0.008350 -0.005635  -0.000067 -0.005995 -0.011987   \n",
              "poutcome     0.018417  0.006446  0.004104   0.016647 -0.006886 -0.015725   \n",
              "y           -0.006153  0.025676  0.049361   0.058562 -0.003400  0.009753   \n",
              "\n",
              "                 loan   contact     month  day_of_week  duration  campaign  \\\n",
              "age         -0.003012  0.024952 -0.033614    -0.022997 -0.000494  0.007063   \n",
              "job         -0.013945 -0.031371 -0.027566    -0.002116 -0.005580 -0.008350   \n",
              "marital      0.007988 -0.054023 -0.005747     0.002693  0.006257 -0.005635   \n",
              "education    0.010166 -0.109040 -0.085088    -0.016576 -0.022133 -0.000067   \n",
              "default     -0.004047 -0.007242 -0.005074     0.006811 -0.007481 -0.005995   \n",
              "housing      0.037050 -0.078204 -0.016748     0.003664 -0.011294 -0.011987   \n",
              "loan         1.000000 -0.014854 -0.008315    -0.012768 -0.003653  0.012719   \n",
              "contact     -0.014854  1.000000  0.275416    -0.007182 -0.034666  0.065177   \n",
              "month       -0.008315  0.275416  1.000000     0.023675  0.009009 -0.061779   \n",
              "day_of_week -0.012768 -0.007182  0.023675     1.000000  0.031457 -0.053507   \n",
              "duration    -0.003653 -0.034666  0.009009     0.031457  1.000000 -0.080557   \n",
              "campaign     0.012719  0.065177 -0.061779    -0.053507 -0.080557  1.000000   \n",
              "poutcome    -0.002950  0.121541 -0.065620     0.014240  0.036757  0.028271   \n",
              "y           -0.000499 -0.143238 -0.007508     0.011926  0.385909 -0.065736   \n",
              "\n",
              "             poutcome         y  \n",
              "age          0.018417 -0.006153  \n",
              "job          0.006446  0.025676  \n",
              "marital      0.004104  0.049361  \n",
              "education    0.016647  0.058562  \n",
              "default     -0.006886 -0.003400  \n",
              "housing     -0.015725  0.009753  \n",
              "loan        -0.002950 -0.000499  \n",
              "contact      0.121541 -0.143238  \n",
              "month       -0.065620 -0.007508  \n",
              "day_of_week  0.014240  0.011926  \n",
              "duration     0.036757  0.385909  \n",
              "campaign     0.028271 -0.065736  \n",
              "poutcome     1.000000  0.127784  \n",
              "y            0.127784  1.000000  "
            ],
            "text/html": [
              "\n",
              "  <div id=\"df-63776e5d-8c9d-429d-86ed-d7225de3d104\">\n",
              "    <div class=\"colab-df-container\">\n",
              "      <div>\n",
              "<style scoped>\n",
              "    .dataframe tbody tr th:only-of-type {\n",
              "        vertical-align: middle;\n",
              "    }\n",
              "\n",
              "    .dataframe tbody tr th {\n",
              "        vertical-align: top;\n",
              "    }\n",
              "\n",
              "    .dataframe thead th {\n",
              "        text-align: right;\n",
              "    }\n",
              "</style>\n",
              "<table border=\"1\" class=\"dataframe\">\n",
              "  <thead>\n",
              "    <tr style=\"text-align: right;\">\n",
              "      <th></th>\n",
              "      <th>age</th>\n",
              "      <th>job</th>\n",
              "      <th>marital</th>\n",
              "      <th>education</th>\n",
              "      <th>default</th>\n",
              "      <th>housing</th>\n",
              "      <th>loan</th>\n",
              "      <th>contact</th>\n",
              "      <th>month</th>\n",
              "      <th>day_of_week</th>\n",
              "      <th>duration</th>\n",
              "      <th>campaign</th>\n",
              "      <th>poutcome</th>\n",
              "      <th>y</th>\n",
              "    </tr>\n",
              "  </thead>\n",
              "  <tbody>\n",
              "    <tr>\n",
              "      <th>age</th>\n",
              "      <td>1.000000</td>\n",
              "      <td>-0.021699</td>\n",
              "      <td>-0.405322</td>\n",
              "      <td>-0.121362</td>\n",
              "      <td>0.002867</td>\n",
              "      <td>-0.003995</td>\n",
              "      <td>-0.003012</td>\n",
              "      <td>0.024952</td>\n",
              "      <td>-0.033614</td>\n",
              "      <td>-0.022997</td>\n",
              "      <td>-0.000494</td>\n",
              "      <td>0.007063</td>\n",
              "      <td>0.018417</td>\n",
              "      <td>-0.006153</td>\n",
              "    </tr>\n",
              "    <tr>\n",
              "      <th>job</th>\n",
              "      <td>-0.021699</td>\n",
              "      <td>1.000000</td>\n",
              "      <td>0.028103</td>\n",
              "      <td>0.131251</td>\n",
              "      <td>0.015322</td>\n",
              "      <td>0.009210</td>\n",
              "      <td>-0.013945</td>\n",
              "      <td>-0.031371</td>\n",
              "      <td>-0.027566</td>\n",
              "      <td>-0.002116</td>\n",
              "      <td>-0.005580</td>\n",
              "      <td>-0.008350</td>\n",
              "      <td>0.006446</td>\n",
              "      <td>0.025676</td>\n",
              "    </tr>\n",
              "    <tr>\n",
              "      <th>marital</th>\n",
              "      <td>-0.405322</td>\n",
              "      <td>0.028103</td>\n",
              "      <td>1.000000</td>\n",
              "      <td>0.111112</td>\n",
              "      <td>-0.002680</td>\n",
              "      <td>0.017711</td>\n",
              "      <td>0.007988</td>\n",
              "      <td>-0.054023</td>\n",
              "      <td>-0.005747</td>\n",
              "      <td>0.002693</td>\n",
              "      <td>0.006257</td>\n",
              "      <td>-0.005635</td>\n",
              "      <td>0.004104</td>\n",
              "      <td>0.049361</td>\n",
              "    </tr>\n",
              "    <tr>\n",
              "      <th>education</th>\n",
              "      <td>-0.121362</td>\n",
              "      <td>0.131251</td>\n",
              "      <td>0.111112</td>\n",
              "      <td>1.000000</td>\n",
              "      <td>0.002874</td>\n",
              "      <td>0.022380</td>\n",
              "      <td>0.010166</td>\n",
              "      <td>-0.109040</td>\n",
              "      <td>-0.085088</td>\n",
              "      <td>-0.016576</td>\n",
              "      <td>-0.022133</td>\n",
              "      <td>-0.000067</td>\n",
              "      <td>0.016647</td>\n",
              "      <td>0.058562</td>\n",
              "    </tr>\n",
              "    <tr>\n",
              "      <th>default</th>\n",
              "      <td>0.002867</td>\n",
              "      <td>0.015322</td>\n",
              "      <td>-0.002680</td>\n",
              "      <td>0.002874</td>\n",
              "      <td>1.000000</td>\n",
              "      <td>-0.004112</td>\n",
              "      <td>-0.004047</td>\n",
              "      <td>-0.007242</td>\n",
              "      <td>-0.005074</td>\n",
              "      <td>0.006811</td>\n",
              "      <td>-0.007481</td>\n",
              "      <td>-0.005995</td>\n",
              "      <td>-0.006886</td>\n",
              "      <td>-0.003400</td>\n",
              "    </tr>\n",
              "    <tr>\n",
              "      <th>housing</th>\n",
              "      <td>-0.003995</td>\n",
              "      <td>0.009210</td>\n",
              "      <td>0.017711</td>\n",
              "      <td>0.022380</td>\n",
              "      <td>-0.004112</td>\n",
              "      <td>1.000000</td>\n",
              "      <td>0.037050</td>\n",
              "      <td>-0.078204</td>\n",
              "      <td>-0.016748</td>\n",
              "      <td>0.003664</td>\n",
              "      <td>-0.011294</td>\n",
              "      <td>-0.011987</td>\n",
              "      <td>-0.015725</td>\n",
              "      <td>0.009753</td>\n",
              "    </tr>\n",
              "    <tr>\n",
              "      <th>loan</th>\n",
              "      <td>-0.003012</td>\n",
              "      <td>-0.013945</td>\n",
              "      <td>0.007988</td>\n",
              "      <td>0.010166</td>\n",
              "      <td>-0.004047</td>\n",
              "      <td>0.037050</td>\n",
              "      <td>1.000000</td>\n",
              "      <td>-0.014854</td>\n",
              "      <td>-0.008315</td>\n",
              "      <td>-0.012768</td>\n",
              "      <td>-0.003653</td>\n",
              "      <td>0.012719</td>\n",
              "      <td>-0.002950</td>\n",
              "      <td>-0.000499</td>\n",
              "    </tr>\n",
              "    <tr>\n",
              "      <th>contact</th>\n",
              "      <td>0.024952</td>\n",
              "      <td>-0.031371</td>\n",
              "      <td>-0.054023</td>\n",
              "      <td>-0.109040</td>\n",
              "      <td>-0.007242</td>\n",
              "      <td>-0.078204</td>\n",
              "      <td>-0.014854</td>\n",
              "      <td>1.000000</td>\n",
              "      <td>0.275416</td>\n",
              "      <td>-0.007182</td>\n",
              "      <td>-0.034666</td>\n",
              "      <td>0.065177</td>\n",
              "      <td>0.121541</td>\n",
              "      <td>-0.143238</td>\n",
              "    </tr>\n",
              "    <tr>\n",
              "      <th>month</th>\n",
              "      <td>-0.033614</td>\n",
              "      <td>-0.027566</td>\n",
              "      <td>-0.005747</td>\n",
              "      <td>-0.085088</td>\n",
              "      <td>-0.005074</td>\n",
              "      <td>-0.016748</td>\n",
              "      <td>-0.008315</td>\n",
              "      <td>0.275416</td>\n",
              "      <td>1.000000</td>\n",
              "      <td>0.023675</td>\n",
              "      <td>0.009009</td>\n",
              "      <td>-0.061779</td>\n",
              "      <td>-0.065620</td>\n",
              "      <td>-0.007508</td>\n",
              "    </tr>\n",
              "    <tr>\n",
              "      <th>day_of_week</th>\n",
              "      <td>-0.022997</td>\n",
              "      <td>-0.002116</td>\n",
              "      <td>0.002693</td>\n",
              "      <td>-0.016576</td>\n",
              "      <td>0.006811</td>\n",
              "      <td>0.003664</td>\n",
              "      <td>-0.012768</td>\n",
              "      <td>-0.007182</td>\n",
              "      <td>0.023675</td>\n",
              "      <td>1.000000</td>\n",
              "      <td>0.031457</td>\n",
              "      <td>-0.053507</td>\n",
              "      <td>0.014240</td>\n",
              "      <td>0.011926</td>\n",
              "    </tr>\n",
              "    <tr>\n",
              "      <th>duration</th>\n",
              "      <td>-0.000494</td>\n",
              "      <td>-0.005580</td>\n",
              "      <td>0.006257</td>\n",
              "      <td>-0.022133</td>\n",
              "      <td>-0.007481</td>\n",
              "      <td>-0.011294</td>\n",
              "      <td>-0.003653</td>\n",
              "      <td>-0.034666</td>\n",
              "      <td>0.009009</td>\n",
              "      <td>0.031457</td>\n",
              "      <td>1.000000</td>\n",
              "      <td>-0.080557</td>\n",
              "      <td>0.036757</td>\n",
              "      <td>0.385909</td>\n",
              "    </tr>\n",
              "    <tr>\n",
              "      <th>campaign</th>\n",
              "      <td>0.007063</td>\n",
              "      <td>-0.008350</td>\n",
              "      <td>-0.005635</td>\n",
              "      <td>-0.000067</td>\n",
              "      <td>-0.005995</td>\n",
              "      <td>-0.011987</td>\n",
              "      <td>0.012719</td>\n",
              "      <td>0.065177</td>\n",
              "      <td>-0.061779</td>\n",
              "      <td>-0.053507</td>\n",
              "      <td>-0.080557</td>\n",
              "      <td>1.000000</td>\n",
              "      <td>0.028271</td>\n",
              "      <td>-0.065736</td>\n",
              "    </tr>\n",
              "    <tr>\n",
              "      <th>poutcome</th>\n",
              "      <td>0.018417</td>\n",
              "      <td>0.006446</td>\n",
              "      <td>0.004104</td>\n",
              "      <td>0.016647</td>\n",
              "      <td>-0.006886</td>\n",
              "      <td>-0.015725</td>\n",
              "      <td>-0.002950</td>\n",
              "      <td>0.121541</td>\n",
              "      <td>-0.065620</td>\n",
              "      <td>0.014240</td>\n",
              "      <td>0.036757</td>\n",
              "      <td>0.028271</td>\n",
              "      <td>1.000000</td>\n",
              "      <td>0.127784</td>\n",
              "    </tr>\n",
              "    <tr>\n",
              "      <th>y</th>\n",
              "      <td>-0.006153</td>\n",
              "      <td>0.025676</td>\n",
              "      <td>0.049361</td>\n",
              "      <td>0.058562</td>\n",
              "      <td>-0.003400</td>\n",
              "      <td>0.009753</td>\n",
              "      <td>-0.000499</td>\n",
              "      <td>-0.143238</td>\n",
              "      <td>-0.007508</td>\n",
              "      <td>0.011926</td>\n",
              "      <td>0.385909</td>\n",
              "      <td>-0.065736</td>\n",
              "      <td>0.127784</td>\n",
              "      <td>1.000000</td>\n",
              "    </tr>\n",
              "  </tbody>\n",
              "</table>\n",
              "</div>\n",
              "      <button class=\"colab-df-convert\" onclick=\"convertToInteractive('df-63776e5d-8c9d-429d-86ed-d7225de3d104')\"\n",
              "              title=\"Convert this dataframe to an interactive table.\"\n",
              "              style=\"display:none;\">\n",
              "        \n",
              "  <svg xmlns=\"http://www.w3.org/2000/svg\" height=\"24px\"viewBox=\"0 0 24 24\"\n",
              "       width=\"24px\">\n",
              "    <path d=\"M0 0h24v24H0V0z\" fill=\"none\"/>\n",
              "    <path d=\"M18.56 5.44l.94 2.06.94-2.06 2.06-.94-2.06-.94-.94-2.06-.94 2.06-2.06.94zm-11 1L8.5 8.5l.94-2.06 2.06-.94-2.06-.94L8.5 2.5l-.94 2.06-2.06.94zm10 10l.94 2.06.94-2.06 2.06-.94-2.06-.94-.94-2.06-.94 2.06-2.06.94z\"/><path d=\"M17.41 7.96l-1.37-1.37c-.4-.4-.92-.59-1.43-.59-.52 0-1.04.2-1.43.59L10.3 9.45l-7.72 7.72c-.78.78-.78 2.05 0 2.83L4 21.41c.39.39.9.59 1.41.59.51 0 1.02-.2 1.41-.59l7.78-7.78 2.81-2.81c.8-.78.8-2.07 0-2.86zM5.41 20L4 18.59l7.72-7.72 1.47 1.35L5.41 20z\"/>\n",
              "  </svg>\n",
              "      </button>\n",
              "      \n",
              "  <style>\n",
              "    .colab-df-container {\n",
              "      display:flex;\n",
              "      flex-wrap:wrap;\n",
              "      gap: 12px;\n",
              "    }\n",
              "\n",
              "    .colab-df-convert {\n",
              "      background-color: #E8F0FE;\n",
              "      border: none;\n",
              "      border-radius: 50%;\n",
              "      cursor: pointer;\n",
              "      display: none;\n",
              "      fill: #1967D2;\n",
              "      height: 32px;\n",
              "      padding: 0 0 0 0;\n",
              "      width: 32px;\n",
              "    }\n",
              "\n",
              "    .colab-df-convert:hover {\n",
              "      background-color: #E2EBFA;\n",
              "      box-shadow: 0px 1px 2px rgba(60, 64, 67, 0.3), 0px 1px 3px 1px rgba(60, 64, 67, 0.15);\n",
              "      fill: #174EA6;\n",
              "    }\n",
              "\n",
              "    [theme=dark] .colab-df-convert {\n",
              "      background-color: #3B4455;\n",
              "      fill: #D2E3FC;\n",
              "    }\n",
              "\n",
              "    [theme=dark] .colab-df-convert:hover {\n",
              "      background-color: #434B5C;\n",
              "      box-shadow: 0px 1px 3px 1px rgba(0, 0, 0, 0.15);\n",
              "      filter: drop-shadow(0px 1px 2px rgba(0, 0, 0, 0.3));\n",
              "      fill: #FFFFFF;\n",
              "    }\n",
              "  </style>\n",
              "\n",
              "      <script>\n",
              "        const buttonEl =\n",
              "          document.querySelector('#df-63776e5d-8c9d-429d-86ed-d7225de3d104 button.colab-df-convert');\n",
              "        buttonEl.style.display =\n",
              "          google.colab.kernel.accessAllowed ? 'block' : 'none';\n",
              "\n",
              "        async function convertToInteractive(key) {\n",
              "          const element = document.querySelector('#df-63776e5d-8c9d-429d-86ed-d7225de3d104');\n",
              "          const dataTable =\n",
              "            await google.colab.kernel.invokeFunction('convertToInteractive',\n",
              "                                                     [key], {});\n",
              "          if (!dataTable) return;\n",
              "\n",
              "          const docLinkHtml = 'Like what you see? Visit the ' +\n",
              "            '<a target=\"_blank\" href=https://colab.research.google.com/notebooks/data_table.ipynb>data table notebook</a>'\n",
              "            + ' to learn more about interactive tables.';\n",
              "          element.innerHTML = '';\n",
              "          dataTable['output_type'] = 'display_data';\n",
              "          await google.colab.output.renderOutput(dataTable, element);\n",
              "          const docLink = document.createElement('div');\n",
              "          docLink.innerHTML = docLinkHtml;\n",
              "          element.appendChild(docLink);\n",
              "        }\n",
              "      </script>\n",
              "    </div>\n",
              "  </div>\n",
              "  "
            ]
          },
          "metadata": {},
          "execution_count": 13
        }
      ],
      "source": [
        "Data.corr()"
      ]
    },
    {
      "cell_type": "code",
      "execution_count": null,
      "metadata": {
        "colab": {
          "base_uri": "https://localhost:8080/"
        },
        "id": "4hFNP2v30IE0",
        "outputId": "6a426499-da5f-4421-c6c2-a4d61948d513"
      },
      "outputs": [
        {
          "output_type": "stream",
          "name": "stdout",
          "text": [
            "0    0.887344\n",
            "1    0.112656\n",
            "Name: y, dtype: float64\n"
          ]
        }
      ],
      "source": [
        "# check the distribution of the target variable\n",
        "print(Data['y'].value_counts(normalize=True))"
      ]
    },
    {
      "cell_type": "markdown",
      "metadata": {
        "id": "48uSaTaW0IE1"
      },
      "source": [
        "# Define the Variable"
      ]
    },
    {
      "cell_type": "code",
      "execution_count": null,
      "metadata": {
        "id": "1ajaw8hV0IE1"
      },
      "outputs": [],
      "source": [
        "y = Data[\"y\"]\n",
        "Data = Data.drop([\"y\"], axis=1)"
      ]
    },
    {
      "cell_type": "code",
      "execution_count": null,
      "metadata": {
        "colab": {
          "base_uri": "https://localhost:8080/",
          "height": 279
        },
        "id": "uWvMfB-p0IE1",
        "outputId": "b1f8c6e5-0083-41be-b2c6-a0d88c9bb3e9"
      },
      "outputs": [
        {
          "output_type": "display_data",
          "data": {
            "text/plain": [
              "<Figure size 432x288 with 1 Axes>"
            ],
            "image/png": "[encoded data removed]"
          },
          "metadata": {
            "needs_background": "light"
          }
        }
      ],
      "source": [
        "# visualize the distribution of the target variable\n",
        "sns.countplot(x=y)\n",
        "plt.show()"
      ]
    },
    {
      "cell_type": "code",
      "execution_count": null,
      "metadata": {
        "id": "JBHG_KiF0IE2"
      },
      "outputs": [],
      "source": [
        "# # visualize the distribution of the target variable\n",
        "# sns.countplot(x='y', data=Data)\n",
        "# plt.show()"
      ]
    },
    {
      "cell_type": "code",
      "execution_count": null,
      "metadata": {
        "id": "fHoQQEel0IE2"
      },
      "outputs": [],
      "source": []
    },
    {
      "cell_type": "code",
      "execution_count": null,
      "metadata": {
        "id": "Hp1F0eIQ0IE2"
      },
      "outputs": [],
      "source": [
        "\n",
        "\n",
        "# plt.bar(Data['y'].value_counts().index, Data['y'].value_counts(normalize=True))\n",
        "# plt.title(\"Distribution of target variable\")\n",
        "# plt.xlabel(\"Target variable\")\n",
        "# plt.ylabel(\"Proportion\")\n",
        "# plt.show()"
      ]
    },
    {
      "cell_type": "code",
      "execution_count": null,
      "metadata": {
        "colab": {
          "base_uri": "https://localhost:8080/",
          "height": 1000
        },
        "id": "R70yKT750IE3",
        "outputId": "f00a524b-145d-4286-eb16-feff67b594f9"
      },
      "outputs": [
        {
          "output_type": "display_data",
          "data": {
            "text/plain": [
              "<Figure size 432x288 with 1 Axes>"
            ],
            "image/png": "[encoded data removed]"
          },
          "metadata": {
            "needs_background": "light"
          }
        },
        {
          "output_type": "display_data",
          "data": {
            "text/plain": [
              "<Figure size 432x288 with 1 Axes>"
            ],
            "image/png": "[encoded data removed]"
          },
          "metadata": {
            "needs_background": "light"
          }
        },
        {
          "output_type": "display_data",
          "data": {
            "text/plain": [
              "<Figure size 432x288 with 1 Axes>"
            ],
            "image/png": "[encoded data removed]"
          },
          "metadata": {
            "needs_background": "light"
          }
        },
        {
          "output_type": "display_data",
          "data": {
            "text/plain": [
              "<Figure size 432x288 with 1 Axes>"
            ],
            "image/png": "[encoded data removed]"
          },
          "metadata": {
            "needs_background": "light"
          }
        },
        {
          "output_type": "display_data",
          "data": {
            "text/plain": [
              "<Figure size 432x288 with 1 Axes>"
            ],
            "image/png": "[encoded data removed]"
          },
          "metadata": {
            "needs_background": "light"
          }
        },
        {
          "output_type": "display_data",
          "data": {
            "text/plain": [
              "<Figure size 432x288 with 1 Axes>"
            ],
            "image/png": "[encoded data removed]"
          },
          "metadata": {
            "needs_background": "light"
          }
        },
        {
          "output_type": "display_data",
          "data": {
            "text/plain": [
              "<Figure size 432x288 with 1 Axes>"
            ],
            "image/png": "[encoded data removed]"
          },
          "metadata": {
            "needs_background": "light"
          }
        },
        {
          "output_type": "display_data",
          "data": {
            "text/plain": [
              "<Figure size 432x288 with 1 Axes>"
            ],
            "image/png": "[encoded data removed]"
          },
          "metadata": {
            "needs_background": "light"
          }
        },
        {
          "output_type": "display_data",
          "data": {
            "text/plain": [
              "<Figure size 432x288 with 1 Axes>"
            ],
            "image/png": "[encoded data removed]"
          },
          "metadata": {
            "needs_background": "light"
          }
        },
        {
          "output_type": "display_data",
          "data": {
            "text/plain": [
              "<Figure size 432x288 with 1 Axes>"
            ],
            "image/png": "[encoded data removed]"
          },
          "metadata": {
            "needs_background": "light"
          }
        },
        {
          "output_type": "display_data",
          "data": {
            "text/plain": [
              "<Figure size 432x288 with 1 Axes>"
            ],
            "image/png": "[encoded data removed]"
          },
          "metadata": {
            "needs_background": "light"
          }
        },
        {
          "output_type": "display_data",
          "data": {
            "text/plain": [
              "<Figure size 432x288 with 1 Axes>"
            ],
            "image/png": "[encoded data removed]"
          },
          "metadata": {
            "needs_background": "light"
          }
        },
        {
          "output_type": "display_data",
          "data": {
            "text/plain": [
              "<Figure size 432x288 with 1 Axes>"
            ],
            "image/png": "[encoded data removed]"
          },
          "metadata": {
            "needs_background": "light"
          }
        }
      ],
      "source": [
        "for column in Data.columns:\n",
        "    fig, ax = plt.subplots()\n",
        "    ax.boxplot(Data[column])\n",
        "    ax.set_title(column)\n",
        "    plt.show()"
      ]
    },
    {
      "cell_type": "code",
      "execution_count": null,
      "metadata": {
        "id": "XXACg4g90IE3"
      },
      "outputs": [],
      "source": []
    },
    {
      "cell_type": "code",
      "execution_count": null,
      "metadata": {
        "id": "XS_Z4Hs70IE3"
      },
      "outputs": [],
      "source": []
    },
    {
      "cell_type": "markdown",
      "metadata": {
        "id": "8DCy1Y2QYi6-"
      },
      "source": [
        "# Data preprocessing"
      ]
    },
    {
      "cell_type": "code",
      "execution_count": null,
      "metadata": {
        "colab": {
          "base_uri": "https://localhost:8080/"
        },
        "id": "2jOJr9_w0IE4",
        "outputId": "cdee2414-2106-4c88-b85f-00f7c2c82647"
      },
      "outputs": [
        {
          "output_type": "stream",
          "name": "stdout",
          "text": [
            "The following columns contain outliers: default, loan, poutcome\n"
          ]
        }
      ],
      "source": [
        "# Define a function to detect outliers for a given column\n",
        "def detect_outliers(data):\n",
        "    # Calculate the IQR\n",
        "    q1, q3 = np.percentile(data, [25, 75])\n",
        "    iqr = q3 - q1\n",
        "    \n",
        "    # Calculate the upper and lower bounds\n",
        "    upper_bound = q3 + 1.5 * iqr\n",
        "    lower_bound = q1 - 1.5 * iqr\n",
        "    \n",
        "    # Identify the outliers\n",
        "    outliers = [x for x in data if x < lower_bound or x > upper_bound]\n",
        "    \n",
        "    # Return True if outliers are present, False otherwise\n",
        "    return bool(outliers)\n",
        "\n",
        "# Detect outliers for each column in the dataset\n",
        "outlier_columns = []\n",
        "for column in Data.columns:\n",
        "    if detect_outliers(Data[column].values):\n",
        "        outlier_columns.append(column)\n",
        "\n",
        "# Print the names of the columns that contain outliers\n",
        "if outlier_columns:\n",
        "    print(f\"The following columns contain outliers: {', '.join(outlier_columns)}\")\n",
        "else:\n",
        "    print(\"No outliers detected in any column.\")"
      ]
    },
    {
      "cell_type": "code",
      "execution_count": null,
      "metadata": {
        "id": "2QOD94CJ0IE5"
      },
      "outputs": [],
      "source": [
        "# Remove outliers for each column that contains them\n",
        "for column in outlier_columns:\n",
        "    # Calculate the IQR\n",
        "    q1, q3 = np.percentile(Data[column], [25, 75])\n",
        "    iqr = q3 - q1\n",
        "    \n",
        "    # Calculate the upper and lower bounds\n",
        "    upper_bound = q3 + 1.5 * iqr\n",
        "    lower_bound = q1 - 1.5 * iqr\n",
        "    \n",
        "    # Replace outliers with NaN\n",
        "    Data.loc[(Data[column] < lower_bound) | (Data[column] > upper_bound), column] = np.nan\n",
        "    "
      ]
    },
    {
      "cell_type": "code",
      "execution_count": null,
      "metadata": {
        "id": "HfdjAIiy0IE5"
      },
      "outputs": [],
      "source": [
        "# Impute missing values using KNN imputer\n",
        "imputer = KNNImputer(n_neighbors=5, weights='distance')\n",
        "Data = pd.DataFrame(imputer.fit_transform(Data), columns=Data.columns)"
      ]
    },
    {
      "cell_type": "code",
      "execution_count": null,
      "metadata": {
        "colab": {
          "base_uri": "https://localhost:8080/",
          "height": 364
        },
        "id": "1AZi-KY60IE6",
        "outputId": "2704870f-8da3-4f9f-e0a7-97936874d641"
      },
      "outputs": [
        {
          "output_type": "execute_result",
          "data": {
            "text/plain": [
              "                age           job       marital     education  default  \\\n",
              "count  32950.000000  32950.000000  32950.000000  32950.000000  32950.0   \n",
              "mean      39.605584      3.634901      1.169408      3.706434      0.0   \n",
              "std        9.079007      3.548829      0.603146      2.081246      0.0   \n",
              "min       26.000000      0.000000      0.000000      0.000000      0.0   \n",
              "25%       32.000000      0.000000      1.000000      2.000000      0.0   \n",
              "50%       38.000000      2.000000      1.000000      3.000000      0.0   \n",
              "75%       47.000000      7.000000      2.000000      6.000000      0.0   \n",
              "max       55.000000     10.000000      2.000000      6.000000      0.0   \n",
              "\n",
              "            housing     loan       contact         month   day_of_week  \\\n",
              "count  32950.000000  32950.0  32950.000000  32950.000000  32950.000000   \n",
              "mean       0.547800      0.0      0.365463      4.233414      2.000546   \n",
              "std        0.497717      0.0      0.481567      2.319693      1.400260   \n",
              "min        0.000000      0.0      0.000000      0.000000      0.000000   \n",
              "25%        0.000000      0.0      0.000000      3.000000      1.000000   \n",
              "50%        1.000000      0.0      0.000000      4.000000      2.000000   \n",
              "75%        1.000000      0.0      1.000000      6.000000      3.000000   \n",
              "max        1.000000      0.0      1.000000      9.000000      4.000000   \n",
              "\n",
              "           duration      campaign  poutcome  \n",
              "count  32950.000000  32950.000000   32950.0  \n",
              "mean     227.795357      2.189469       1.0  \n",
              "std      158.757258      1.362850       0.0  \n",
              "min       36.000000      1.000000       1.0  \n",
              "25%      103.000000      1.000000       1.0  \n",
              "50%      180.000000      2.000000       1.0  \n",
              "75%      319.000000      3.000000       1.0  \n",
              "max      550.000000      5.000000       1.0  "
            ],
            "text/html": [
              "\n",
              "  <div id=\"df-88a16845-b3e5-44aa-bfa0-6c464060e9e6\">\n",
              "    <div class=\"colab-df-container\">\n",
              "      <div>\n",
              "<style scoped>\n",
              "    .dataframe tbody tr th:only-of-type {\n",
              "        vertical-align: middle;\n",
              "    }\n",
              "\n",
              "    .dataframe tbody tr th {\n",
              "        vertical-align: top;\n",
              "    }\n",
              "\n",
              "    .dataframe thead th {\n",
              "        text-align: right;\n",
              "    }\n",
              "</style>\n",
              "<table border=\"1\" class=\"dataframe\">\n",
              "  <thead>\n",
              "    <tr style=\"text-align: right;\">\n",
              "      <th></th>\n",
              "      <th>age</th>\n",
              "      <th>job</th>\n",
              "      <th>marital</th>\n",
              "      <th>education</th>\n",
              "      <th>default</th>\n",
              "      <th>housing</th>\n",
              "      <th>loan</th>\n",
              "      <th>contact</th>\n",
              "      <th>month</th>\n",
              "      <th>day_of_week</th>\n",
              "      <th>duration</th>\n",
              "      <th>campaign</th>\n",
              "      <th>poutcome</th>\n",
              "    </tr>\n",
              "  </thead>\n",
              "  <tbody>\n",
              "    <tr>\n",
              "      <th>count</th>\n",
              "      <td>32950.000000</td>\n",
              "      <td>32950.000000</td>\n",
              "      <td>32950.000000</td>\n",
              "      <td>32950.000000</td>\n",
              "      <td>32950.0</td>\n",
              "      <td>32950.000000</td>\n",
              "      <td>32950.0</td>\n",
              "      <td>32950.000000</td>\n",
              "      <td>32950.000000</td>\n",
              "      <td>32950.000000</td>\n",
              "      <td>32950.000000</td>\n",
              "      <td>32950.000000</td>\n",
              "      <td>32950.0</td>\n",
              "    </tr>\n",
              "    <tr>\n",
              "      <th>mean</th>\n",
              "      <td>39.605584</td>\n",
              "      <td>3.634901</td>\n",
              "      <td>1.169408</td>\n",
              "      <td>3.706434</td>\n",
              "      <td>0.0</td>\n",
              "      <td>0.547800</td>\n",
              "      <td>0.0</td>\n",
              "      <td>0.365463</td>\n",
              "      <td>4.233414</td>\n",
              "      <td>2.000546</td>\n",
              "      <td>227.795357</td>\n",
              "      <td>2.189469</td>\n",
              "      <td>1.0</td>\n",
              "    </tr>\n",
              "    <tr>\n",
              "      <th>std</th>\n",
              "      <td>9.079007</td>\n",
              "      <td>3.548829</td>\n",
              "      <td>0.603146</td>\n",
              "      <td>2.081246</td>\n",
              "      <td>0.0</td>\n",
              "      <td>0.497717</td>\n",
              "      <td>0.0</td>\n",
              "      <td>0.481567</td>\n",
              "      <td>2.319693</td>\n",
              "      <td>1.400260</td>\n",
              "      <td>158.757258</td>\n",
              "      <td>1.362850</td>\n",
              "      <td>0.0</td>\n",
              "    </tr>\n",
              "    <tr>\n",
              "      <th>min</th>\n",
              "      <td>26.000000</td>\n",
              "      <td>0.000000</td>\n",
              "      <td>0.000000</td>\n",
              "      <td>0.000000</td>\n",
              "      <td>0.0</td>\n",
              "      <td>0.000000</td>\n",
              "      <td>0.0</td>\n",
              "      <td>0.000000</td>\n",
              "      <td>0.000000</td>\n",
              "      <td>0.000000</td>\n",
              "      <td>36.000000</td>\n",
              "      <td>1.000000</td>\n",
              "      <td>1.0</td>\n",
              "    </tr>\n",
              "    <tr>\n",
              "      <th>25%</th>\n",
              "      <td>32.000000</td>\n",
              "      <td>0.000000</td>\n",
              "      <td>1.000000</td>\n",
              "      <td>2.000000</td>\n",
              "      <td>0.0</td>\n",
              "      <td>0.000000</td>\n",
              "      <td>0.0</td>\n",
              "      <td>0.000000</td>\n",
              "      <td>3.000000</td>\n",
              "      <td>1.000000</td>\n",
              "      <td>103.000000</td>\n",
              "      <td>1.000000</td>\n",
              "      <td>1.0</td>\n",
              "    </tr>\n",
              "    <tr>\n",
              "      <th>50%</th>\n",
              "      <td>38.000000</td>\n",
              "      <td>2.000000</td>\n",
              "      <td>1.000000</td>\n",
              "      <td>3.000000</td>\n",
              "      <td>0.0</td>\n",
              "      <td>1.000000</td>\n",
              "      <td>0.0</td>\n",
              "      <td>0.000000</td>\n",
              "      <td>4.000000</td>\n",
              "      <td>2.000000</td>\n",
              "      <td>180.000000</td>\n",
              "      <td>2.000000</td>\n",
              "      <td>1.0</td>\n",
              "    </tr>\n",
              "    <tr>\n",
              "      <th>75%</th>\n",
              "      <td>47.000000</td>\n",
              "      <td>7.000000</td>\n",
              "      <td>2.000000</td>\n",
              "      <td>6.000000</td>\n",
              "      <td>0.0</td>\n",
              "      <td>1.000000</td>\n",
              "      <td>0.0</td>\n",
              "      <td>1.000000</td>\n",
              "      <td>6.000000</td>\n",
              "      <td>3.000000</td>\n",
              "      <td>319.000000</td>\n",
              "      <td>3.000000</td>\n",
              "      <td>1.0</td>\n",
              "    </tr>\n",
              "    <tr>\n",
              "      <th>max</th>\n",
              "      <td>55.000000</td>\n",
              "      <td>10.000000</td>\n",
              "      <td>2.000000</td>\n",
              "      <td>6.000000</td>\n",
              "      <td>0.0</td>\n",
              "      <td>1.000000</td>\n",
              "      <td>0.0</td>\n",
              "      <td>1.000000</td>\n",
              "      <td>9.000000</td>\n",
              "      <td>4.000000</td>\n",
              "      <td>550.000000</td>\n",
              "      <td>5.000000</td>\n",
              "      <td>1.0</td>\n",
              "    </tr>\n",
              "  </tbody>\n",
              "</table>\n",
              "</div>\n",
              "      <button class=\"colab-df-convert\" onclick=\"convertToInteractive('df-88a16845-b3e5-44aa-bfa0-6c464060e9e6')\"\n",
              "              title=\"Convert this dataframe to an interactive table.\"\n",
              "              style=\"display:none;\">\n",
              "        \n",
              "  <svg xmlns=\"http://www.w3.org/2000/svg\" height=\"24px\"viewBox=\"0 0 24 24\"\n",
              "       width=\"24px\">\n",
              "    <path d=\"M0 0h24v24H0V0z\" fill=\"none\"/>\n",
              "    <path d=\"M18.56 5.44l.94 2.06.94-2.06 2.06-.94-2.06-.94-.94-2.06-.94 2.06-2.06.94zm-11 1L8.5 8.5l.94-2.06 2.06-.94-2.06-.94L8.5 2.5l-.94 2.06-2.06.94zm10 10l.94 2.06.94-2.06 2.06-.94-2.06-.94-.94-2.06-.94 2.06-2.06.94z\"/><path d=\"M17.41 7.96l-1.37-1.37c-.4-.4-.92-.59-1.43-.59-.52 0-1.04.2-1.43.59L10.3 9.45l-7.72 7.72c-.78.78-.78 2.05 0 2.83L4 21.41c.39.39.9.59 1.41.59.51 0 1.02-.2 1.41-.59l7.78-7.78 2.81-2.81c.8-.78.8-2.07 0-2.86zM5.41 20L4 18.59l7.72-7.72 1.47 1.35L5.41 20z\"/>\n",
              "  </svg>\n",
              "      </button>\n",
              "      \n",
              "  <style>\n",
              "    .colab-df-container {\n",
              "      display:flex;\n",
              "      flex-wrap:wrap;\n",
              "      gap: 12px;\n",
              "    }\n",
              "\n",
              "    .colab-df-convert {\n",
              "      background-color: #E8F0FE;\n",
              "      border: none;\n",
              "      border-radius: 50%;\n",
              "      cursor: pointer;\n",
              "      display: none;\n",
              "      fill: #1967D2;\n",
              "      height: 32px;\n",
              "      padding: 0 0 0 0;\n",
              "      width: 32px;\n",
              "    }\n",
              "\n",
              "    .colab-df-convert:hover {\n",
              "      background-color: #E2EBFA;\n",
              "      box-shadow: 0px 1px 2px rgba(60, 64, 67, 0.3), 0px 1px 3px 1px rgba(60, 64, 67, 0.15);\n",
              "      fill: #174EA6;\n",
              "    }\n",
              "\n",
              "    [theme=dark] .colab-df-convert {\n",
              "      background-color: #3B4455;\n",
              "      fill: #D2E3FC;\n",
              "    }\n",
              "\n",
              "    [theme=dark] .colab-df-convert:hover {\n",
              "      background-color: #434B5C;\n",
              "      box-shadow: 0px 1px 3px 1px rgba(0, 0, 0, 0.15);\n",
              "      filter: drop-shadow(0px 1px 2px rgba(0, 0, 0, 0.3));\n",
              "      fill: #FFFFFF;\n",
              "    }\n",
              "  </style>\n",
              "\n",
              "      <script>\n",
              "        const buttonEl =\n",
              "          document.querySelector('#df-88a16845-b3e5-44aa-bfa0-6c464060e9e6 button.colab-df-convert');\n",
              "        buttonEl.style.display =\n",
              "          google.colab.kernel.accessAllowed ? 'block' : 'none';\n",
              "\n",
              "        async function convertToInteractive(key) {\n",
              "          const element = document.querySelector('#df-88a16845-b3e5-44aa-bfa0-6c464060e9e6');\n",
              "          const dataTable =\n",
              "            await google.colab.kernel.invokeFunction('convertToInteractive',\n",
              "                                                     [key], {});\n",
              "          if (!dataTable) return;\n",
              "\n",
              "          const docLinkHtml = 'Like what you see? Visit the ' +\n",
              "            '<a target=\"_blank\" href=https://colab.research.google.com/notebooks/data_table.ipynb>data table notebook</a>'\n",
              "            + ' to learn more about interactive tables.';\n",
              "          element.innerHTML = '';\n",
              "          dataTable['output_type'] = 'display_data';\n",
              "          await google.colab.output.renderOutput(dataTable, element);\n",
              "          const docLink = document.createElement('div');\n",
              "          docLink.innerHTML = docLinkHtml;\n",
              "          element.appendChild(docLink);\n",
              "        }\n",
              "      </script>\n",
              "    </div>\n",
              "  </div>\n",
              "  "
            ]
          },
          "metadata": {},
          "execution_count": 23
        }
      ],
      "source": [
        "Data.describe()"
      ]
    },
    {
      "cell_type": "code",
      "execution_count": null,
      "metadata": {
        "colab": {
          "base_uri": "https://localhost:8080/"
        },
        "id": "Bz8Bfm5t0IE6",
        "outputId": "ae4149fc-6761-4646-c7dc-6496a0ff8996"
      },
      "outputs": [
        {
          "output_type": "stream",
          "name": "stdout",
          "text": [
            "<class 'pandas.core.frame.DataFrame'>\n",
            "RangeIndex: 32950 entries, 0 to 32949\n",
            "Data columns (total 13 columns):\n",
            " #   Column       Non-Null Count  Dtype  \n",
            "---  ------       --------------  -----  \n",
            " 0   age          32950 non-null  float64\n",
            " 1   job          32950 non-null  float64\n",
            " 2   marital      32950 non-null  float64\n",
            " 3   education    32950 non-null  float64\n",
            " 4   default      32950 non-null  float64\n",
            " 5   housing      32950 non-null  float64\n",
            " 6   loan         32950 non-null  float64\n",
            " 7   contact      32950 non-null  float64\n",
            " 8   month        32950 non-null  float64\n",
            " 9   day_of_week  32950 non-null  float64\n",
            " 10  duration     32950 non-null  float64\n",
            " 11  campaign     32950 non-null  float64\n",
            " 12  poutcome     32950 non-null  float64\n",
            "dtypes: float64(13)\n",
            "memory usage: 3.3 MB\n"
          ]
        }
      ],
      "source": [
        "Data.info()"
      ]
    },
    {
      "cell_type": "code",
      "execution_count": null,
      "metadata": {
        "colab": {
          "base_uri": "https://localhost:8080/"
        },
        "id": "AWf2v_OM0IE7",
        "outputId": "d2aa5731-9f24-4106-85a6-967fd9a443c9"
      },
      "outputs": [
        {
          "output_type": "execute_result",
          "data": {
            "text/plain": [
              "(32950, 13)"
            ]
          },
          "metadata": {},
          "execution_count": 25
        }
      ],
      "source": [
        "Data.shape"
      ]
    },
    {
      "cell_type": "code",
      "execution_count": null,
      "metadata": {
        "id": "EwD9Z8-oWSPi"
      },
      "outputs": [],
      "source": [
        "# Data = Data.drop_duplicates()"
      ]
    },
    {
      "cell_type": "code",
      "execution_count": null,
      "metadata": {
        "id": "0nL9uYSYIZYC"
      },
      "outputs": [],
      "source": [
        "# Data = Data.dropna()"
      ]
    },
    {
      "cell_type": "code",
      "execution_count": null,
      "metadata": {
        "id": "Wccb4ge9Irtw"
      },
      "outputs": [],
      "source": [
        "Data = pd.get_dummies(Data, columns=[\"education\", \"marital\", \"contact\", \"month\", \"day_of_week\", \"poutcome\"])"
      ]
    },
    {
      "cell_type": "code",
      "execution_count": null,
      "metadata": {
        "colab": {
          "base_uri": "https://localhost:8080/",
          "height": 488
        },
        "id": "eG4jGQ4hMqy5",
        "outputId": "8e000be1-c32c-43ee-c3c3-d1704be5493e"
      },
      "outputs": [
        {
          "output_type": "execute_result",
          "data": {
            "text/plain": [
              "        age  job  default  housing  loan  duration  campaign  education_0.0  \\\n",
              "0      49.0  1.0      0.0      0.0   0.0     227.0       4.0              0   \n",
              "1      37.0  2.0      0.0      0.0   0.0     202.0       2.0              0   \n",
              "2      55.0  5.0      0.0      0.0   0.0     550.0       1.0              1   \n",
              "3      36.0  0.0      0.0      1.0   0.0     120.0       2.0              0   \n",
              "4      55.0  5.0      0.0      0.0   0.0     368.0       2.0              0   \n",
              "...     ...  ...      ...      ...   ...       ...       ...            ...   \n",
              "32945  28.0  7.0      0.0      1.0   0.0     192.0       1.0              0   \n",
              "32946  52.0  9.0      0.0      1.0   0.0      64.0       1.0              0   \n",
              "32947  54.0  0.0      0.0      0.0   0.0     131.0       4.0              0   \n",
              "32948  29.0  0.0      0.0      0.0   0.0     165.0       1.0              0   \n",
              "32949  35.0  0.0      0.0      0.0   0.0     544.0       3.0              0   \n",
              "\n",
              "       education_1.0  education_2.0  ...  month_6.0  month_7.0  month_8.0  \\\n",
              "0                  0              1  ...          0          1          0   \n",
              "1                  0              0  ...          0          1          0   \n",
              "2                  0              0  ...          0          0          0   \n",
              "3                  0              0  ...          1          0          0   \n",
              "4                  0              0  ...          0          0          0   \n",
              "...              ...            ...  ...        ...        ...        ...   \n",
              "32945              0              0  ...          0          0          0   \n",
              "32946              0              0  ...          0          1          0   \n",
              "32947              0              1  ...          0          0          0   \n",
              "32948              0              0  ...          1          0          0   \n",
              "32949              0              0  ...          0          0          0   \n",
              "\n",
              "       month_9.0  day_of_week_0.0  day_of_week_1.0  day_of_week_2.0  \\\n",
              "0              0                0                0                0   \n",
              "1              0                0                0                0   \n",
              "2              0                0                1                0   \n",
              "3              0                0                1                0   \n",
              "4              0                0                0                0   \n",
              "...          ...              ...              ...              ...   \n",
              "32945          0                0                0                0   \n",
              "32946          0                1                0                0   \n",
              "32947          0                0                1                0   \n",
              "32948          0                1                0                0   \n",
              "32949          0                0                0                0   \n",
              "\n",
              "       day_of_week_3.0  day_of_week_4.0  poutcome_1.0  \n",
              "0                    0                1             1  \n",
              "1                    0                1             1  \n",
              "2                    0                0             1  \n",
              "3                    0                0             1  \n",
              "4                    1                0             1  \n",
              "...                ...              ...           ...  \n",
              "32945                1                0             1  \n",
              "32946                0                0             1  \n",
              "32947                0                0             1  \n",
              "32948                0                0             1  \n",
              "32949                1                0             1  \n",
              "\n",
              "[32950 rows x 35 columns]"
            ],
            "text/html": [
              "\n",
              "  <div id=\"df-5343de69-1ed6-402e-99bd-bd4f4f1304b5\">\n",
              "    <div class=\"colab-df-container\">\n",
              "      <div>\n",
              "<style scoped>\n",
              "    .dataframe tbody tr th:only-of-type {\n",
              "        vertical-align: middle;\n",
              "    }\n",
              "\n",
              "    .dataframe tbody tr th {\n",
              "        vertical-align: top;\n",
              "    }\n",
              "\n",
              "    .dataframe thead th {\n",
              "        text-align: right;\n",
              "    }\n",
              "</style>\n",
              "<table border=\"1\" class=\"dataframe\">\n",
              "  <thead>\n",
              "    <tr style=\"text-align: right;\">\n",
              "      <th></th>\n",
              "      <th>age</th>\n",
              "      <th>job</th>\n",
              "      <th>default</th>\n",
              "      <th>housing</th>\n",
              "      <th>loan</th>\n",
              "      <th>duration</th>\n",
              "      <th>campaign</th>\n",
              "      <th>education_0.0</th>\n",
              "      <th>education_1.0</th>\n",
              "      <th>education_2.0</th>\n",
              "      <th>...</th>\n",
              "      <th>month_6.0</th>\n",
              "      <th>month_7.0</th>\n",
              "      <th>month_8.0</th>\n",
              "      <th>month_9.0</th>\n",
              "      <th>day_of_week_0.0</th>\n",
              "      <th>day_of_week_1.0</th>\n",
              "      <th>day_of_week_2.0</th>\n",
              "      <th>day_of_week_3.0</th>\n",
              "      <th>day_of_week_4.0</th>\n",
              "      <th>poutcome_1.0</th>\n",
              "    </tr>\n",
              "  </thead>\n",
              "  <tbody>\n",
              "    <tr>\n",
              "      <th>0</th>\n",
              "      <td>49.0</td>\n",
              "      <td>1.0</td>\n",
              "      <td>0.0</td>\n",
              "      <td>0.0</td>\n",
              "      <td>0.0</td>\n",
              "      <td>227.0</td>\n",
              "      <td>4.0</td>\n",
              "      <td>0</td>\n",
              "      <td>0</td>\n",
              "      <td>1</td>\n",
              "      <td>...</td>\n",
              "      <td>0</td>\n",
              "      <td>1</td>\n",
              "      <td>0</td>\n",
              "      <td>0</td>\n",
              "      <td>0</td>\n",
              "      <td>0</td>\n",
              "      <td>0</td>\n",
              "      <td>0</td>\n",
              "      <td>1</td>\n",
              "      <td>1</td>\n",
              "    </tr>\n",
              "    <tr>\n",
              "      <th>1</th>\n",
              "      <td>37.0</td>\n",
              "      <td>2.0</td>\n",
              "      <td>0.0</td>\n",
              "      <td>0.0</td>\n",
              "      <td>0.0</td>\n",
              "      <td>202.0</td>\n",
              "      <td>2.0</td>\n",
              "      <td>0</td>\n",
              "      <td>0</td>\n",
              "      <td>0</td>\n",
              "      <td>...</td>\n",
              "      <td>0</td>\n",
              "      <td>1</td>\n",
              "      <td>0</td>\n",
              "      <td>0</td>\n",
              "      <td>0</td>\n",
              "      <td>0</td>\n",
              "      <td>0</td>\n",
              "      <td>0</td>\n",
              "      <td>1</td>\n",
              "      <td>1</td>\n",
              "    </tr>\n",
              "    <tr>\n",
              "      <th>2</th>\n",
              "      <td>55.0</td>\n",
              "      <td>5.0</td>\n",
              "      <td>0.0</td>\n",
              "      <td>0.0</td>\n",
              "      <td>0.0</td>\n",
              "      <td>550.0</td>\n",
              "      <td>1.0</td>\n",
              "      <td>1</td>\n",
              "      <td>0</td>\n",
              "      <td>0</td>\n",
              "      <td>...</td>\n",
              "      <td>0</td>\n",
              "      <td>0</td>\n",
              "      <td>0</td>\n",
              "      <td>0</td>\n",
              "      <td>0</td>\n",
              "      <td>1</td>\n",
              "      <td>0</td>\n",
              "      <td>0</td>\n",
              "      <td>0</td>\n",
              "      <td>1</td>\n",
              "    </tr>\n",
              "    <tr>\n",
              "      <th>3</th>\n",
              "      <td>36.0</td>\n",
              "      <td>0.0</td>\n",
              "      <td>0.0</td>\n",
              "      <td>1.0</td>\n",
              "      <td>0.0</td>\n",
              "      <td>120.0</td>\n",
              "      <td>2.0</td>\n",
              "      <td>0</td>\n",
              "      <td>0</td>\n",
              "      <td>0</td>\n",
              "      <td>...</td>\n",
              "      <td>1</td>\n",
              "      <td>0</td>\n",
              "      <td>0</td>\n",
              "      <td>0</td>\n",
              "      <td>0</td>\n",
              "      <td>1</td>\n",
              "      <td>0</td>\n",
              "      <td>0</td>\n",
              "      <td>0</td>\n",
              "      <td>1</td>\n",
              "    </tr>\n",
              "    <tr>\n",
              "      <th>4</th>\n",
              "      <td>55.0</td>\n",
              "      <td>5.0</td>\n",
              "      <td>0.0</td>\n",
              "      <td>0.0</td>\n",
              "      <td>0.0</td>\n",
              "      <td>368.0</td>\n",
              "      <td>2.0</td>\n",
              "      <td>0</td>\n",
              "      <td>0</td>\n",
              "      <td>0</td>\n",
              "      <td>...</td>\n",
              "      <td>0</td>\n",
              "      <td>0</td>\n",
              "      <td>0</td>\n",
              "      <td>0</td>\n",
              "      <td>0</td>\n",
              "      <td>0</td>\n",
              "      <td>0</td>\n",
              "      <td>1</td>\n",
              "      <td>0</td>\n",
              "      <td>1</td>\n",
              "    </tr>\n",
              "    <tr>\n",
              "      <th>...</th>\n",
              "      <td>...</td>\n",
              "      <td>...</td>\n",
              "      <td>...</td>\n",
              "      <td>...</td>\n",
              "      <td>...</td>\n",
              "      <td>...</td>\n",
              "      <td>...</td>\n",
              "      <td>...</td>\n",
              "      <td>...</td>\n",
              "      <td>...</td>\n",
              "      <td>...</td>\n",
              "      <td>...</td>\n",
              "      <td>...</td>\n",
              "      <td>...</td>\n",
              "      <td>...</td>\n",
              "      <td>...</td>\n",
              "      <td>...</td>\n",
              "      <td>...</td>\n",
              "      <td>...</td>\n",
              "      <td>...</td>\n",
              "      <td>...</td>\n",
              "    </tr>\n",
              "    <tr>\n",
              "      <th>32945</th>\n",
              "      <td>28.0</td>\n",
              "      <td>7.0</td>\n",
              "      <td>0.0</td>\n",
              "      <td>1.0</td>\n",
              "      <td>0.0</td>\n",
              "      <td>192.0</td>\n",
              "      <td>1.0</td>\n",
              "      <td>0</td>\n",
              "      <td>0</td>\n",
              "      <td>0</td>\n",
              "      <td>...</td>\n",
              "      <td>0</td>\n",
              "      <td>0</td>\n",
              "      <td>0</td>\n",
              "      <td>0</td>\n",
              "      <td>0</td>\n",
              "      <td>0</td>\n",
              "      <td>0</td>\n",
              "      <td>1</td>\n",
              "      <td>0</td>\n",
              "      <td>1</td>\n",
              "    </tr>\n",
              "    <tr>\n",
              "      <th>32946</th>\n",
              "      <td>52.0</td>\n",
              "      <td>9.0</td>\n",
              "      <td>0.0</td>\n",
              "      <td>1.0</td>\n",
              "      <td>0.0</td>\n",
              "      <td>64.0</td>\n",
              "      <td>1.0</td>\n",
              "      <td>0</td>\n",
              "      <td>0</td>\n",
              "      <td>0</td>\n",
              "      <td>...</td>\n",
              "      <td>0</td>\n",
              "      <td>1</td>\n",
              "      <td>0</td>\n",
              "      <td>0</td>\n",
              "      <td>1</td>\n",
              "      <td>0</td>\n",
              "      <td>0</td>\n",
              "      <td>0</td>\n",
              "      <td>0</td>\n",
              "      <td>1</td>\n",
              "    </tr>\n",
              "    <tr>\n",
              "      <th>32947</th>\n",
              "      <td>54.0</td>\n",
              "      <td>0.0</td>\n",
              "      <td>0.0</td>\n",
              "      <td>0.0</td>\n",
              "      <td>0.0</td>\n",
              "      <td>131.0</td>\n",
              "      <td>4.0</td>\n",
              "      <td>0</td>\n",
              "      <td>0</td>\n",
              "      <td>1</td>\n",
              "      <td>...</td>\n",
              "      <td>0</td>\n",
              "      <td>0</td>\n",
              "      <td>0</td>\n",
              "      <td>0</td>\n",
              "      <td>0</td>\n",
              "      <td>1</td>\n",
              "      <td>0</td>\n",
              "      <td>0</td>\n",
              "      <td>0</td>\n",
              "      <td>1</td>\n",
              "    </tr>\n",
              "    <tr>\n",
              "      <th>32948</th>\n",
              "      <td>29.0</td>\n",
              "      <td>0.0</td>\n",
              "      <td>0.0</td>\n",
              "      <td>0.0</td>\n",
              "      <td>0.0</td>\n",
              "      <td>165.0</td>\n",
              "      <td>1.0</td>\n",
              "      <td>0</td>\n",
              "      <td>0</td>\n",
              "      <td>0</td>\n",
              "      <td>...</td>\n",
              "      <td>1</td>\n",
              "      <td>0</td>\n",
              "      <td>0</td>\n",
              "      <td>0</td>\n",
              "      <td>1</td>\n",
              "      <td>0</td>\n",
              "      <td>0</td>\n",
              "      <td>0</td>\n",
              "      <td>0</td>\n",
              "      <td>1</td>\n",
              "    </tr>\n",
              "    <tr>\n",
              "      <th>32949</th>\n",
              "      <td>35.0</td>\n",
              "      <td>0.0</td>\n",
              "      <td>0.0</td>\n",
              "      <td>0.0</td>\n",
              "      <td>0.0</td>\n",
              "      <td>544.0</td>\n",
              "      <td>3.0</td>\n",
              "      <td>0</td>\n",
              "      <td>0</td>\n",
              "      <td>0</td>\n",
              "      <td>...</td>\n",
              "      <td>0</td>\n",
              "      <td>0</td>\n",
              "      <td>0</td>\n",
              "      <td>0</td>\n",
              "      <td>0</td>\n",
              "      <td>0</td>\n",
              "      <td>0</td>\n",
              "      <td>1</td>\n",
              "      <td>0</td>\n",
              "      <td>1</td>\n",
              "    </tr>\n",
              "  </tbody>\n",
              "</table>\n",
              "<p>32950 rows × 35 columns</p>\n",
              "</div>\n",
              "      <button class=\"colab-df-convert\" onclick=\"convertToInteractive('df-5343de69-1ed6-402e-99bd-bd4f4f1304b5')\"\n",
              "              title=\"Convert this dataframe to an interactive table.\"\n",
              "              style=\"display:none;\">\n",
              "        \n",
              "  <svg xmlns=\"http://www.w3.org/2000/svg\" height=\"24px\"viewBox=\"0 0 24 24\"\n",
              "       width=\"24px\">\n",
              "    <path d=\"M0 0h24v24H0V0z\" fill=\"none\"/>\n",
              "    <path d=\"M18.56 5.44l.94 2.06.94-2.06 2.06-.94-2.06-.94-.94-2.06-.94 2.06-2.06.94zm-11 1L8.5 8.5l.94-2.06 2.06-.94-2.06-.94L8.5 2.5l-.94 2.06-2.06.94zm10 10l.94 2.06.94-2.06 2.06-.94-2.06-.94-.94-2.06-.94 2.06-2.06.94z\"/><path d=\"M17.41 7.96l-1.37-1.37c-.4-.4-.92-.59-1.43-.59-.52 0-1.04.2-1.43.59L10.3 9.45l-7.72 7.72c-.78.78-.78 2.05 0 2.83L4 21.41c.39.39.9.59 1.41.59.51 0 1.02-.2 1.41-.59l7.78-7.78 2.81-2.81c.8-.78.8-2.07 0-2.86zM5.41 20L4 18.59l7.72-7.72 1.47 1.35L5.41 20z\"/>\n",
              "  </svg>\n",
              "      </button>\n",
              "      \n",
              "  <style>\n",
              "    .colab-df-container {\n",
              "      display:flex;\n",
              "      flex-wrap:wrap;\n",
              "      gap: 12px;\n",
              "    }\n",
              "\n",
              "    .colab-df-convert {\n",
              "      background-color: #E8F0FE;\n",
              "      border: none;\n",
              "      border-radius: 50%;\n",
              "      cursor: pointer;\n",
              "      display: none;\n",
              "      fill: #1967D2;\n",
              "      height: 32px;\n",
              "      padding: 0 0 0 0;\n",
              "      width: 32px;\n",
              "    }\n",
              "\n",
              "    .colab-df-convert:hover {\n",
              "      background-color: #E2EBFA;\n",
              "      box-shadow: 0px 1px 2px rgba(60, 64, 67, 0.3), 0px 1px 3px 1px rgba(60, 64, 67, 0.15);\n",
              "      fill: #174EA6;\n",
              "    }\n",
              "\n",
              "    [theme=dark] .colab-df-convert {\n",
              "      background-color: #3B4455;\n",
              "      fill: #D2E3FC;\n",
              "    }\n",
              "\n",
              "    [theme=dark] .colab-df-convert:hover {\n",
              "      background-color: #434B5C;\n",
              "      box-shadow: 0px 1px 3px 1px rgba(0, 0, 0, 0.15);\n",
              "      filter: drop-shadow(0px 1px 2px rgba(0, 0, 0, 0.3));\n",
              "      fill: #FFFFFF;\n",
              "    }\n",
              "  </style>\n",
              "\n",
              "      <script>\n",
              "        const buttonEl =\n",
              "          document.querySelector('#df-5343de69-1ed6-402e-99bd-bd4f4f1304b5 button.colab-df-convert');\n",
              "        buttonEl.style.display =\n",
              "          google.colab.kernel.accessAllowed ? 'block' : 'none';\n",
              "\n",
              "        async function convertToInteractive(key) {\n",
              "          const element = document.querySelector('#df-5343de69-1ed6-402e-99bd-bd4f4f1304b5');\n",
              "          const dataTable =\n",
              "            await google.colab.kernel.invokeFunction('convertToInteractive',\n",
              "                                                     [key], {});\n",
              "          if (!dataTable) return;\n",
              "\n",
              "          const docLinkHtml = 'Like what you see? Visit the ' +\n",
              "            '<a target=\"_blank\" href=https://colab.research.google.com/notebooks/data_table.ipynb>data table notebook</a>'\n",
              "            + ' to learn more about interactive tables.';\n",
              "          element.innerHTML = '';\n",
              "          dataTable['output_type'] = 'display_data';\n",
              "          await google.colab.output.renderOutput(dataTable, element);\n",
              "          const docLink = document.createElement('div');\n",
              "          docLink.innerHTML = docLinkHtml;\n",
              "          element.appendChild(docLink);\n",
              "        }\n",
              "      </script>\n",
              "    </div>\n",
              "  </div>\n",
              "  "
            ]
          },
          "metadata": {},
          "execution_count": 29
        }
      ],
      "source": [
        "Data"
      ]
    },
    {
      "cell_type": "code",
      "execution_count": null,
      "metadata": {
        "id": "0AwH4McW0IE8"
      },
      "outputs": [],
      "source": []
    },
    {
      "cell_type": "code",
      "execution_count": null,
      "metadata": {
        "id": "j-est8Rc0IE8"
      },
      "outputs": [],
      "source": []
    },
    {
      "cell_type": "markdown",
      "metadata": {
        "id": "6f6xFDAJJWPW"
      },
      "source": [
        "# Feature engineering"
      ]
    },
    {
      "cell_type": "code",
      "execution_count": null,
      "metadata": {
        "colab": {
          "base_uri": "https://localhost:8080/"
        },
        "id": "8m38bhJIRwrI",
        "outputId": "e9560b15-ff80-4b0d-c459-8d678d1004f5"
      },
      "outputs": [
        {
          "output_type": "execute_result",
          "data": {
            "text/plain": [
              "Index(['age', 'job', 'default', 'housing', 'loan', 'duration', 'campaign',\n",
              "       'education_0.0', 'education_1.0', 'education_2.0', 'education_3.0',\n",
              "       'education_4.0', 'education_5.0', 'education_6.0', 'marital_0.0',\n",
              "       'marital_1.0', 'marital_2.0', 'contact_0.0', 'contact_1.0', 'month_0.0',\n",
              "       'month_1.0', 'month_2.0', 'month_3.0', 'month_4.0', 'month_5.0',\n",
              "       'month_6.0', 'month_7.0', 'month_8.0', 'month_9.0', 'day_of_week_0.0',\n",
              "       'day_of_week_1.0', 'day_of_week_2.0', 'day_of_week_3.0',\n",
              "       'day_of_week_4.0', 'poutcome_1.0'],\n",
              "      dtype='object')"
            ]
          },
          "metadata": {},
          "execution_count": 30
        }
      ],
      "source": [
        "Data.columns"
      ]
    },
    {
      "cell_type": "code",
      "execution_count": null,
      "metadata": {
        "id": "yjGTfatZSgpo"
      },
      "outputs": [],
      "source": [
        "import seaborn as sns\n",
        "import matplotlib.pyplot as plt\n"
      ]
    },
    {
      "cell_type": "code",
      "execution_count": null,
      "metadata": {
        "id": "wTu9OHAIJJuq"
      },
      "outputs": [],
      "source": [
        "X = Data\n",
        "y = y"
      ]
    },
    {
      "cell_type": "code",
      "execution_count": null,
      "metadata": {
        "id": "F4orju-ZnWag"
      },
      "outputs": [],
      "source": [
        "y = y"
      ]
    },
    {
      "cell_type": "code",
      "execution_count": null,
      "metadata": {
        "id": "HTHi3kGroaNk"
      },
      "outputs": [],
      "source": [
        "from sklearn.model_selection import train_test_split"
      ]
    },
    {
      "cell_type": "code",
      "execution_count": null,
      "metadata": {
        "id": "yjkILcyfod-c"
      },
      "outputs": [],
      "source": [
        "X_train, X_test, y_train, y_test = train_test_split(X, y, test_size=0.2, random_state=42)"
      ]
    },
    {
      "cell_type": "markdown",
      "metadata": {
        "id": "QP7k_wtu0IE_"
      },
      "source": [
        "# Use standardization for feature scaling"
      ]
    },
    {
      "cell_type": "code",
      "execution_count": null,
      "metadata": {
        "id": "saiLXAvu0IE_"
      },
      "outputs": [],
      "source": [
        "from sklearn.preprocessing import StandardScaler"
      ]
    },
    {
      "cell_type": "code",
      "execution_count": null,
      "metadata": {
        "id": "y-f1HXd80IE_"
      },
      "outputs": [],
      "source": [
        "sc=StandardScaler()"
      ]
    },
    {
      "cell_type": "code",
      "execution_count": null,
      "metadata": {
        "id": "xAwTJ2i30IFA"
      },
      "outputs": [],
      "source": [
        "X_train=sc.fit_transform(X_train)"
      ]
    },
    {
      "cell_type": "code",
      "execution_count": null,
      "metadata": {
        "id": "v7PmgRm70IFA"
      },
      "outputs": [],
      "source": [
        "X_test=sc.transform(X_test)"
      ]
    },
    {
      "cell_type": "markdown",
      "metadata": {
        "id": "OB1nhLyao_h7"
      },
      "source": [
        "# Model selection"
      ]
    },
    {
      "cell_type": "code",
      "execution_count": null,
      "metadata": {
        "id": "1Tl-JC9EowOg"
      },
      "outputs": [],
      "source": [
        "from sklearn.linear_model import LogisticRegression"
      ]
    },
    {
      "cell_type": "code",
      "execution_count": null,
      "metadata": {
        "id": "65r2JgZypOXo"
      },
      "outputs": [],
      "source": [
        "model = LogisticRegression(max_iter=1000)"
      ]
    },
    {
      "cell_type": "code",
      "source": [
        "model.fit(X_train, y_train)"
      ],
      "metadata": {
        "colab": {
          "base_uri": "https://localhost:8080/",
          "height": 75
        },
        "id": "ftbY85lO1XKM",
        "outputId": "a84e5a25-ca75-4e6e-f15c-37fea7ea23c2"
      },
      "execution_count": null,
      "outputs": [
        {
          "output_type": "execute_result",
          "data": {
            "text/plain": [
              "LogisticRegression(max_iter=1000)"
            ],
            "text/html": [
              "<style>#sk-container-id-1 {color: black;background-color: white;}#sk-container-id-1 pre{padding: 0;}#sk-container-id-1 div.sk-toggleable {background-color: white;}#sk-container-id-1 label.sk-toggleable__label {cursor: pointer;display: block;width: 100%;margin-bottom: 0;padding: 0.3em;box-sizing: border-box;text-align: center;}#sk-container-id-1 label.sk-toggleable__label-arrow:before {content: \"▸\";float: left;margin-right: 0.25em;color: #696969;}#sk-container-id-1 label.sk-toggleable__label-arrow:hover:before {color: black;}#sk-container-id-1 div.sk-estimator:hover label.sk-toggleable__label-arrow:before {color: black;}#sk-container-id-1 div.sk-toggleable__content {max-height: 0;max-width: 0;overflow: hidden;text-align: left;background-color: #f0f8ff;}#sk-container-id-1 div.sk-toggleable__content pre {margin: 0.2em;color: black;border-radius: 0.25em;background-color: #f0f8ff;}#sk-container-id-1 input.sk-toggleable__control:checked~div.sk-toggleable__content {max-height: 200px;max-width: 100%;overflow: auto;}#sk-container-id-1 input.sk-toggleable__control:checked~label.sk-toggleable__label-arrow:before {content: \"▾\";}#sk-container-id-1 div.sk-estimator input.sk-toggleable__control:checked~label.sk-toggleable__label {background-color: #d4ebff;}#sk-container-id-1 div.sk-label input.sk-toggleable__control:checked~label.sk-toggleable__label {background-color: #d4ebff;}#sk-container-id-1 input.sk-hidden--visually {border: 0;clip: rect(1px 1px 1px 1px);clip: rect(1px, 1px, 1px, 1px);height: 1px;margin: -1px;overflow: hidden;padding: 0;position: absolute;width: 1px;}#sk-container-id-1 div.sk-estimator {font-family: monospace;background-color: #f0f8ff;border: 1px dotted black;border-radius: 0.25em;box-sizing: border-box;margin-bottom: 0.5em;}#sk-container-id-1 div.sk-estimator:hover {background-color: #d4ebff;}#sk-container-id-1 div.sk-parallel-item::after {content: \"\";width: 100%;border-bottom: 1px solid gray;flex-grow: 1;}#sk-container-id-1 div.sk-label:hover label.sk-toggleable__label {background-color: #d4ebff;}#sk-container-id-1 div.sk-serial::before {content: \"\";position: absolute;border-left: 1px solid gray;box-sizing: border-box;top: 0;bottom: 0;left: 50%;z-index: 0;}#sk-container-id-1 div.sk-serial {display: flex;flex-direction: column;align-items: center;background-color: white;padding-right: 0.2em;padding-left: 0.2em;position: relative;}#sk-container-id-1 div.sk-item {position: relative;z-index: 1;}#sk-container-id-1 div.sk-parallel {display: flex;align-items: stretch;justify-content: center;background-color: white;position: relative;}#sk-container-id-1 div.sk-item::before, #sk-container-id-1 div.sk-parallel-item::before {content: \"\";position: absolute;border-left: 1px solid gray;box-sizing: border-box;top: 0;bottom: 0;left: 50%;z-index: -1;}#sk-container-id-1 div.sk-parallel-item {display: flex;flex-direction: column;z-index: 1;position: relative;background-color: white;}#sk-container-id-1 div.sk-parallel-item:first-child::after {align-self: flex-end;width: 50%;}#sk-container-id-1 div.sk-parallel-item:last-child::after {align-self: flex-start;width: 50%;}#sk-container-id-1 div.sk-parallel-item:only-child::after {width: 0;}#sk-container-id-1 div.sk-dashed-wrapped {border: 1px dashed gray;margin: 0 0.4em 0.5em 0.4em;box-sizing: border-box;padding-bottom: 0.4em;background-color: white;}#sk-container-id-1 div.sk-label label {font-family: monospace;font-weight: bold;display: inline-block;line-height: 1.2em;}#sk-container-id-1 div.sk-label-container {text-align: center;}#sk-container-id-1 div.sk-container {/* jupyter's `normalize.less` sets `[hidden] { display: none; }` but bootstrap.min.css set `[hidden] { display: none !important; }` so we also need the `!important` here to be able to override the default hidden behavior on the sphinx rendered scikit-learn.org. See: https://github.com/scikit-learn/scikit-learn/issues/21755 */display: inline-block !important;position: relative;}#sk-container-id-1 div.sk-text-repr-fallback {display: none;}</style><div id=\"sk-container-id-1\" class=\"sk-top-container\"><div class=\"sk-text-repr-fallback\"><pre>LogisticRegression(max_iter=1000)</pre><b>In a Jupyter environment, please rerun this cell to show the HTML representation or trust the notebook. <br />On GitHub, the HTML representation is unable to render, please try loading this page with nbviewer.org.</b></div><div class=\"sk-container\" hidden><div class=\"sk-item\"><div class=\"sk-estimator sk-toggleable\"><input class=\"sk-toggleable__control sk-hidden--visually\" id=\"sk-estimator-id-1\" type=\"checkbox\" checked><label for=\"sk-estimator-id-1\" class=\"sk-toggleable__label sk-toggleable__label-arrow\">LogisticRegression</label><div class=\"sk-toggleable__content\"><pre>LogisticRegression(max_iter=1000)</pre></div></div></div></div></div>"
            ]
          },
          "metadata": {},
          "execution_count": 49
        }
      ]
    },
    {
      "cell_type": "code",
      "source": [],
      "metadata": {
        "id": "3NTmJQhq1XVT"
      },
      "execution_count": null,
      "outputs": []
    },
    {
      "cell_type": "code",
      "source": [
        "y_pred = model.predict_proba(X_test)[:, 1]"
      ],
      "metadata": {
        "id": "BxcB-cNt001l"
      },
      "execution_count": null,
      "outputs": []
    },
    {
      "cell_type": "code",
      "execution_count": null,
      "metadata": {
        "id": "e_MJHdpt0IFB"
      },
      "outputs": [],
      "source": [
        "auc_score = roc_auc_score(y_test, y_pred)"
      ]
    },
    {
      "cell_type": "code",
      "execution_count": null,
      "metadata": {
        "colab": {
          "base_uri": "https://localhost:8080/"
        },
        "id": "xj97x6rk0IFC",
        "outputId": "ef88a7ef-e598-4ab9-f3d8-a657a55734ec"
      },
      "outputs": [
        {
          "output_type": "stream",
          "name": "stdout",
          "text": [
            "ROC-AUC Score: 0.8716673678837356\n"
          ]
        }
      ],
      "source": [
        "print(\"ROC-AUC Score:\", auc_score)"
      ]
    },
    {
      "cell_type": "markdown",
      "metadata": {
        "id": "T5KgjUKh0IFC"
      },
      "source": [
        "# ROC-AUC Score with hypermeter "
      ]
    },
    {
      "cell_type": "code",
      "execution_count": null,
      "metadata": {
        "colab": {
          "base_uri": "https://localhost:8080/"
        },
        "id": "qxMEKUxt0IFC",
        "outputId": "b44c3122-b62e-4c9a-bcf4-473f07565087"
      },
      "outputs": [
        {
          "output_type": "stream",
          "name": "stdout",
          "text": [
            "Cross-validation scores: [0.8846187  0.88579775 0.88110675 0.90273311 0.86943164]\n",
            "Mean ROC-AUC: 0.885\n"
          ]
        }
      ],
      "source": [
        "scores = cross_val_score(model, X_train, y_train, cv=5, scoring=\"roc_auc\")\n",
        "print(f\"Cross-validation scores: {scores}\")\n",
        "print(f\"Mean ROC-AUC: {np.mean(scores):.3f}\")"
      ]
    },
    {
      "cell_type": "code",
      "execution_count": null,
      "metadata": {
        "colab": {
          "base_uri": "https://localhost:8080/",
          "height": 295
        },
        "id": "ML0VDEZz0IFD",
        "outputId": "76b032bc-3a1f-4fae-a3b1-dc18a5e80978"
      },
      "outputs": [
        {
          "output_type": "display_data",
          "data": {
            "text/plain": [
              "<Figure size 432x288 with 1 Axes>"
            ],
            "image/png": "[encoded data removed]"
          },
          "metadata": {
            "needs_background": "light"
          }
        }
      ],
      "source": [
        "from sklearn.metrics import roc_curve, auc\n",
        "from sklearn.model_selection import cross_val_predict\n",
        "\n",
        "# Generate predicted probabilities using cross-validation\n",
        "y_pred_proba = cross_val_predict(model, X_train, y_train, cv=5, method='predict_proba')\n",
        "\n",
        "# Compute the false positive rate, true positive rate, and threshold\n",
        "fpr, tpr, threshold = roc_curve(y_train, y_pred_proba[:, 1])\n",
        "\n",
        "# Compute the AUC score\n",
        "roc_auc = auc(fpr, tpr)\n",
        "\n",
        "# Plot the ROC curve\n",
        "plt.plot(fpr, tpr, label=f'AUC = {roc_auc:.2f}')\n",
        "\n",
        "# Plot the diagonal line (random guessing)\n",
        "plt.plot([0, 1], [0, 1], 'r--')\n",
        "\n",
        "# Set the x- and y-axis labels\n",
        "plt.xlabel('False Positive Rate')\n",
        "plt.ylabel('True Positive Rate')\n",
        "\n",
        "# Set the title of the plot\n",
        "plt.title('Receiver Operating Characteristic (ROC) Curve')\n",
        "\n",
        "# Set the legend of the plot\n",
        "plt.legend(loc='lower right')\n",
        "\n",
        "# Show the plot\n",
        "plt.show()"
      ]
    },
    {
      "cell_type": "markdown",
      "metadata": {
        "id": "UT9s3OGl0IFE"
      },
      "source": [
        "# Find out the accuracy"
      ]
    },
    {
      "cell_type": "code",
      "execution_count": null,
      "metadata": {
        "colab": {
          "base_uri": "https://localhost:8080/"
        },
        "id": "TTL45Q5q0IFE",
        "outputId": "f94a5563-bbc6-4b0e-deb8-906d0b8bd0d2"
      },
      "outputs": [
        {
          "output_type": "execute_result",
          "data": {
            "text/plain": [
              "0.883763277693475"
            ]
          },
          "metadata": {},
          "execution_count": 55
        }
      ],
      "source": [
        "threshold = 0.5\n",
        "# Convert predicted probabilities to binary values\n",
        "y_pred_binary = np.where(y_pred >= threshold, 1, 0)\n",
        "accuracy_score(y_test, y_pred_binary)"
      ]
    },
    {
      "cell_type": "markdown",
      "metadata": {
        "id": "DUeCQftV0IFE"
      },
      "source": [
        "# Create the classification report and understand each term in it"
      ]
    },
    {
      "cell_type": "code",
      "execution_count": null,
      "metadata": {
        "colab": {
          "base_uri": "https://localhost:8080/"
        },
        "id": "Yr9hZR8g0IFF",
        "outputId": "e6251a87-995a-466b-a4d5-99f607913bc1"
      },
      "outputs": [
        {
          "output_type": "stream",
          "name": "stdout",
          "text": [
            "              precision    recall  f1-score   support\n",
            "\n",
            "           0       0.90      0.97      0.94      5798\n",
            "           1       0.54      0.22      0.31       792\n",
            "\n",
            "    accuracy                           0.88      6590\n",
            "   macro avg       0.72      0.60      0.62      6590\n",
            "weighted avg       0.86      0.88      0.86      6590\n",
            "\n"
          ]
        }
      ],
      "source": [
        "from sklearn.metrics import classification_report\n",
        "print(classification_report(y_test, y_pred_binary))"
      ]
    },
    {
      "cell_type": "markdown",
      "metadata": {
        "id": "4-AoPiIV0IFF"
      },
      "source": [
        "# Compare roc_auc_score LogisticRegression with RandomForestClassifier"
      ]
    },
    {
      "cell_type": "code",
      "execution_count": null,
      "metadata": {
        "id": "4JTeSxuP0IFF"
      },
      "outputs": [],
      "source": [
        "# Importing the required libraries for modeling\n",
        "from sklearn.linear_model import LogisticRegression\n",
        "from sklearn.ensemble import RandomForestClassifier\n",
        "from sklearn.metrics import roc_auc_score\n",
        "\n",
        "# Creating a list of models to be trained\n",
        "models = []\n",
        "models.append(('Logistic Regression', LogisticRegression()))\n",
        "models.append(('Random Forest', RandomForestClassifier()))\n",
        "\n",
        "# Training the models and evaluating their performance\n",
        "results = []\n",
        "names = []\n",
        "for name, model in models:\n",
        "    model.fit(X_train, y_train)\n",
        "    y_pred = model.predict_proba(X_test)[:, 1]\n",
        "    auc = roc_auc_score(y_test, y_pred)\n",
        "    results.append(auc)\n",
        "    names.append(name)\n"
      ]
    },
    {
      "cell_type": "code",
      "execution_count": null,
      "metadata": {
        "colab": {
          "base_uri": "https://localhost:8080/"
        },
        "id": "RrHFBbns0IFG",
        "outputId": "142e6ce1-4afa-424a-d079-ad78d27f3266"
      },
      "outputs": [
        {
          "output_type": "stream",
          "name": "stdout",
          "text": [
            "Logistic Regression : 0.8716673678837356\n",
            "Random Forest : 0.8948469473973959\n"
          ]
        }
      ],
      "source": [
        "for i in range(len(names)):\n",
        "    print(names[i], \":\", results[i])"
      ]
    },
    {
      "cell_type": "markdown",
      "metadata": {
        "id": "spalUnsP0IFG"
      },
      "source": [
        "# With hypermeter accuracy_score, precision_score, recall_score, f1_score Compare LogisticRegression with RandomForestClassifier"
      ]
    },
    {
      "cell_type": "code",
      "execution_count": null,
      "metadata": {
        "id": "wk76Zbw-0IFH"
      },
      "outputs": [],
      "source": [
        "X = X\n",
        "y = y"
      ]
    },
    {
      "cell_type": "code",
      "execution_count": null,
      "metadata": {
        "id": "BV0aXwBv0IFH"
      },
      "outputs": [],
      "source": [
        "# Split the data into training and testing sets\n",
        "X_train, X_test, y_train, y_test = train_test_split(X, y, test_size=0.2, random_state=42)\n",
        "\n",
        "# Create a Random Forest classifier\n",
        "clf = RandomForestClassifier(n_estimators=100, random_state=42)"
      ]
    },
    {
      "cell_type": "code",
      "execution_count": null,
      "metadata": {
        "id": "PG6bPRmX0IFH"
      },
      "outputs": [],
      "source": [
        "clf.fit(X_train, y_train)\n",
        "\n",
        "# Make predictions on the test set\n",
        "y_pred_proba = clf.predict_proba(X_test)[:,1]"
      ]
    },
    {
      "cell_type": "code",
      "execution_count": null,
      "metadata": {
        "colab": {
          "base_uri": "https://localhost:8080/"
        },
        "id": "RjtfGG3s0IFI",
        "outputId": "55c432a0-20d5-4b41-bd98-548253505107"
      },
      "outputs": [
        {
          "output_type": "stream",
          "name": "stdout",
          "text": [
            "ROC-AUC: 0.8966303688837322\n"
          ]
        }
      ],
      "source": [
        "roc_auc = roc_auc_score(y_test, y_pred_proba)\n",
        "print('ROC-AUC:', roc_auc)"
      ]
    },
    {
      "cell_type": "code",
      "execution_count": null,
      "metadata": {
        "colab": {
          "base_uri": "https://localhost:8080/"
        },
        "id": "Z2wiUtZX0IFI",
        "outputId": "60e83b28-a4a8-4040-9ff8-d9c1b2cc1da0"
      },
      "outputs": [
        {
          "output_type": "stream",
          "name": "stdout",
          "text": [
            "Logistic Regression\n",
            "Best hyperparameters: {'C': 0.1}\n",
            "Cross-validation scores: [0.8983308  0.89188164 0.89662367 0.89946889 0.8943475 ]\n",
            "Mean cross-validation score: 0.8961305007587252\n",
            "Accuracy: 0.8839150227617603\n",
            "Precision: 0.5434083601286174\n",
            "Recall: 0.21338383838383837\n",
            "F1-score: 0.30643699002719854\n",
            "\n",
            "Random Forest\n",
            "Best hyperparameters: {'max_depth': 20, 'n_estimators': 500}\n",
            "Cross-validation scores: [0.89681335 0.89207132 0.89339909 0.89776176 0.89567527]\n",
            "Mean cross-validation score: 0.895144157814871\n",
            "Accuracy: 0.8901365705614568\n",
            "Precision: 0.5829268292682926\n",
            "Recall: 0.30176767676767674\n",
            "F1-score: 0.3976705490848585\n",
            "\n"
          ]
        }
      ],
      "source": [
        "# Normalize data\n",
        "scaler = StandardScaler()\n",
        "X_train = scaler.fit_transform(X_train)\n",
        "X_test = scaler.transform(X_test)\n",
        "\n",
        "# Define models\n",
        "models = {\n",
        "    'Logistic Regression': LogisticRegression(),\n",
        "    'Random Forest': RandomForestClassifier()\n",
        "}\n",
        "\n",
        "# Define hyperparameters for Grid Search\n",
        "param_grid = {\n",
        "    'Logistic Regression': {'C': [0.1, 1, 10]},\n",
        "    'Random Forest': {'n_estimators': [100, 200, 500], 'max_depth': [5, 10, 20]}\n",
        "}\n",
        "\n",
        "# Train and evaluate models using cross-validation\n",
        "for name, model in models.items():\n",
        "    print(name)\n",
        "    # Find best hyperparameters using Grid Search\n",
        "    grid = GridSearchCV(model, param_grid[name], cv=5)\n",
        "    grid.fit(X_train, y_train)\n",
        "    print('Best hyperparameters:', grid.best_params_)\n",
        "    # Evaluate performance using cross-validation\n",
        "    scores = cross_val_score(grid.best_estimator_, X_train, y_train, cv=5)\n",
        "    print('Cross-validation scores:', scores)\n",
        "    print('Mean cross-validation score:', scores.mean())\n",
        "    # Make predictions on test set and evaluate performance\n",
        "    y_pred = grid.best_estimator_.predict(X_test)\n",
        "    print('Accuracy:', accuracy_score(y_test, y_pred))\n",
        "    print('Precision:', precision_score(y_test, y_pred))\n",
        "    print('Recall:', recall_score(y_test, y_pred))\n",
        "    print('F1-score:', f1_score(y_test, y_pred))\n",
        "    print()"
      ]
    },
    {
      "cell_type": "code",
      "execution_count": null,
      "metadata": {
        "id": "vKNd9wJe0IFJ"
      },
      "outputs": [],
      "source": []
    }
  ],
  "metadata": {
    "colab": {
      "provenance": []
    },
    "kernelspec": {
      "display_name": "Python 3 (ipykernel)",
      "language": "python",
      "name": "python3"
    },
    "language_info": {
      "codemirror_mode": {
        "name": "ipython",
        "version": 3
      },
      "file_extension": ".py",
      "mimetype": "text/x-python",
      "name": "python",
      "nbconvert_exporter": "python",
      "pygments_lexer": "ipython3",
      "version": "3.9.13"
    }
  },
  "nbformat": 4,
  "nbformat_minor": 0
}